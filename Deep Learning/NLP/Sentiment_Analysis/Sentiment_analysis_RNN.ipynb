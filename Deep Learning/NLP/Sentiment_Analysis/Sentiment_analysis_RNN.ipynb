{
 "cells": [
  {
   "cell_type": "markdown",
   "id": "f809b92d",
   "metadata": {
    "gradient": {
     "editing": false,
     "id": "f809b92d",
     "kernelId": ""
    }
   },
   "source": [
    "# Sentiment Analysis with an RNN\n",
    "\n",
    "In this notebook, you'll implement a recurrent neural network that performs sentiment analysis. \n",
    ">Using an RNN rather than a strictly feedforward network is more accurate since we can include information about the *sequence* of words. \n",
    "\n",
    "Here we'll use a dataset of movie reviews, accompanied by sentiment labels: positive or negative.\n",
    "\n",
    "<img src=\"assets/reviews_ex.png\" width=40%>\n",
    "\n",
    "### Network Architecture\n",
    "\n",
    "The architecture for this network is shown below.\n",
    "\n",
    "<img src=\"assets/network_diagram.png\" width=40%>\n",
    "\n",
    ">**First, we'll pass in words to an embedding layer.** We need an embedding layer because we have tens of thousands of words, so we'll need a more efficient representation for our input data than one-hot encoded vectors. You should have seen this before from the Word2Vec lesson. You can actually train an embedding with the Skip-gram Word2Vec model and use those embeddings as input, here. However, it's good enough to just have an embedding layer and let the network learn a different embedding table on its own. *In this case, the embedding layer is for dimensionality reduction, rather than for learning semantic representations.*\n",
    "\n",
    ">**After input words are passed to an embedding layer, the new embeddings will be passed to LSTM cells.** The LSTM cells will add *recurrent* connections to the network and give us the ability to include information about the *sequence* of words in the movie review data. \n",
    "\n",
    ">**Finally, the LSTM outputs will go to a sigmoid output layer.** We're using a sigmoid function because positive and negative = 1 and 0, respectively, and a sigmoid will output predicted, sentiment values between 0-1. \n",
    "\n",
    "We don't care about the sigmoid outputs except for the **very last one**; we can ignore the rest. We'll calculate the loss by comparing the output at the last time step and the training label (pos or neg)."
   ]
  },
  {
   "cell_type": "markdown",
   "id": "16e2d7fc",
   "metadata": {
    "gradient": {
     "editing": false,
     "id": "16e2d7fc",
     "kernelId": ""
    }
   },
   "source": [
    "#### Load in and Visualize the data"
   ]
  },
  {
   "cell_type": "code",
   "execution_count": null,
   "id": "57bf78b1",
   "metadata": {
    "gradient": {
     "editing": false,
     "execution_count": 1,
     "id": "57bf78b1",
     "kernelId": ""
    }
   },
   "outputs": [],
   "source": [
    "import numpy as np\n",
    "\n",
    "# read data from text files\n",
    "with open('data/reviews.txt', 'r') as f:\n",
    "    reviews = f.read()\n",
    "\n",
    "with open('data/labels.txt', 'r') as f:\n",
    "    labels = f.read()"
   ]
  },
  {
   "cell_type": "code",
   "execution_count": null,
   "id": "ac720360",
   "metadata": {
    "gradient": {
     "editing": false,
     "execution_count": 2,
     "id": "ac720360",
     "kernelId": ""
    }
   },
   "outputs": [
    {
     "name": "stdout",
     "output_type": "stream",
     "text": [
      "bromwell high is a cartoon comedy . it ran at the same time as some other programs about school life  such as  teachers  . my   years in the teaching profession lead me to believe that bromwell high  s satire is much closer to reality than is  teachers  . the scramble to survive financially  the insightful students who can see right through their pathetic teachers  pomp  the pettiness of the whole situation  all remind me of the schools i knew and their students . when i saw the episode in which a student repeatedly tried to burn down the school  i immediately recalled . . . . . . . . . at . . . . . . . . . . high . a classic line inspector i  m here to sack one of your teachers . student welcome to bromwell high . i expect that many adults of my age think that bromwell high is far fetched . what a pity that it isn  t   \n",
      "story of a man who has unnatural feelings for a pig . starts out with a opening scene that is a terrific example of absurd comedy . a formal orchestra audience is turned into an insane  violent mob by the crazy chantings of it  s singers . unfortunately it stays absurd the whole time with no general narrative eventually making it just too off putting . even those from the era should be turned off . the cryptic dialogue would make shakespeare seem easy to a third grader . on a technical level it  s better than you might think with some good cinematography by future great vilmos zsigmond . future stars sally kirkland and frederic forrest can be seen briefly .  \n",
      "homelessness  or houselessness as george carlin stated  has been an issue for years but never a plan to help those on the street that were once considered human who did everything from going to school  work  or vote for the matter . most people think of the homeless as just a lost cause while worrying about things such as racism  the war on iraq  pressuring kids to succeed  technology  the elections  inflation  or worrying if they  ll be next to end up on the streets .  br    br   but what if y\n",
      "\n",
      "positive\n",
      "negative\n",
      "po\n"
     ]
    }
   ],
   "source": [
    "print(reviews[:2000])\n",
    "print()\n",
    "print(labels[:20])"
   ]
  },
  {
   "cell_type": "markdown",
   "id": "2504aecd",
   "metadata": {
    "gradient": {
     "editing": false,
     "id": "2504aecd",
     "kernelId": ""
    }
   },
   "source": [
    "## Data pre-processing\n",
    "\n",
    "The first step when building a neural network model is getting your data into the proper form to feed into the network. Since we're using embedding layers, we'll need to encode each word with an integer. We'll also want to clean it up a bit.\n",
    "\n",
    "You can see an example of the reviews data above. Here are the processing steps, we'll want to take:\n",
    ">* We'll want to get rid of periods and extraneous punctuation.\n",
    "* Also, you might notice that the reviews are delimited with newline characters `\\n`. To deal with those, I'm going to split the text into each review using `\\n` as the delimiter. \n",
    "* Then I can combined all the reviews back together into one big string.\n",
    "\n",
    "First, let's remove all punctuation. Then get all the text without the newlines and split it into individual words."
   ]
  },
  {
   "cell_type": "code",
   "execution_count": null,
   "id": "ba4fa23d",
   "metadata": {
    "gradient": {
     "editing": false,
     "execution_count": 3,
     "id": "ba4fa23d",
     "kernelId": ""
    }
   },
   "outputs": [
    {
     "name": "stdout",
     "output_type": "stream",
     "text": [
      "!\"#$%&'()*+,-./:;<=>?@[\\]^_`{|}~\n"
     ]
    }
   ],
   "source": [
    "from string import punctuation\n",
    "print(punctuation)\n",
    "\n",
    "reviews = reviews.lower()\n",
    "all_text = ''.join([c for c in reviews if c not in punctuation])"
   ]
  },
  {
   "cell_type": "code",
   "execution_count": null,
   "id": "abf84357",
   "metadata": {
    "gradient": {
     "editing": false,
     "execution_count": 4,
     "id": "abf84357",
     "kernelId": ""
    }
   },
   "outputs": [],
   "source": [
    "# split by new lines because we assume next line will be next reviews\n",
    "reviews_split = all_text.split('\\n')\n",
    "all_text = ' '.join(reviews_split)\n",
    "\n",
    "# create the list of the words\n",
    "words = all_text.split()"
   ]
  },
  {
   "cell_type": "code",
   "execution_count": null,
   "id": "814b81ad",
   "metadata": {
    "gradient": {
     "editing": false,
     "execution_count": 5,
     "id": "814b81ad",
     "kernelId": ""
    }
   },
   "outputs": [
    {
     "data": {
      "text/plain": [
       "['bromwell',\n",
       " 'high',\n",
       " 'is',\n",
       " 'a',\n",
       " 'cartoon',\n",
       " 'comedy',\n",
       " 'it',\n",
       " 'ran',\n",
       " 'at',\n",
       " 'the',\n",
       " 'same',\n",
       " 'time',\n",
       " 'as',\n",
       " 'some',\n",
       " 'other',\n",
       " 'programs',\n",
       " 'about',\n",
       " 'school',\n",
       " 'life',\n",
       " 'such',\n",
       " 'as',\n",
       " 'teachers',\n",
       " 'my',\n",
       " 'years',\n",
       " 'in',\n",
       " 'the',\n",
       " 'teaching',\n",
       " 'profession',\n",
       " 'lead',\n",
       " 'me']"
      ]
     },
     "execution_count": 5,
     "metadata": {},
     "output_type": "execute_result"
    }
   ],
   "source": [
    "words[:30]"
   ]
  },
  {
   "cell_type": "markdown",
   "id": "370deaa4",
   "metadata": {
    "gradient": {
     "editing": false,
     "id": "370deaa4",
     "kernelId": ""
    }
   },
   "source": [
    "### Encoding the words\n",
    "\n",
    "The embedding lookup requires that we pass in integers to our network. The easiest way to do this is to create dictionaries that map the words in the vocabulary to integers. Then we can convert each of our reviews into integers so they can be passed into the network.\n",
    "\n",
    "> **Exercise:** Now you're going to encode the words with integers. Build a dictionary that maps words to integers. Later we're going to pad our input vectors with zeros, so make sure the integers **start at 1, not 0**.\n",
    "> Also, convert the reviews to integers and store the reviews in a new list called `reviews_ints`."
   ]
  },
  {
   "cell_type": "code",
   "execution_count": null,
   "id": "cd132f60",
   "metadata": {
    "gradient": {
     "editing": false,
     "execution_count": 6,
     "id": "cd132f60",
     "kernelId": ""
    }
   },
   "outputs": [],
   "source": [
    "from collections import Counter\n",
    "\n",
    "# It return dictionry \n",
    "counts = Counter(words)\n",
    "\n",
    "# It return keys in decending order value associate\n",
    "vocab = sorted(counts, key=counts.get, reverse=True)\n",
    "# counts.most_common()\n",
    "vocab_to_int = {word: ii for ii, word in enumerate(vocab, 1)}\n",
    "\n",
    "# Tokenize each review to review_split\n",
    "# store the tokenize reviews into the reviews_ints\n",
    "reviews_ints = []\n",
    "for review in reviews_split:\n",
    "    reviews_ints.append([vocab_to_int[word] for word in review.split()])  # we are getting only numbers and appending into the list \n"
   ]
  },
  {
   "cell_type": "markdown",
   "id": "825293d6",
   "metadata": {
    "gradient": {
     "editing": false,
     "id": "825293d6",
     "kernelId": ""
    }
   },
   "source": [
    "**Test your code**\n",
    "\n",
    "As a text that you've implemented the dictionary correctly, print out the number of unique words in your vocabulary and the contents of the first, tokenized review."
   ]
  },
  {
   "cell_type": "markdown",
   "id": "1b75bf42",
   "metadata": {},
   "source": [
    "## What is tokenzation?:  Simply `each word converted into the integer`"
   ]
  },
  {
   "cell_type": "code",
   "execution_count": null,
   "id": "89f31897",
   "metadata": {
    "gradient": {
     "execution_count": 7,
     "id": "89f31897",
     "kernelId": ""
    }
   },
   "outputs": [
    {
     "name": "stdout",
     "output_type": "stream",
     "text": [
      "Unique words:  74072\n",
      "\n",
      "Tokenized review: \n",
      " [[21025, 308, 6, 3, 1050, 207, 8, 2138, 32, 1, 171, 57, 15, 49, 81, 5785, 44, 382, 110, 140, 15, 5194, 60, 154, 9, 1, 4975, 5852, 475, 71, 5, 260, 12, 21025, 308, 13, 1978, 6, 74, 2395, 5, 613, 73, 6, 5194, 1, 24103, 5, 1983, 10166, 1, 5786, 1499, 36, 51, 66, 204, 145, 67, 1199, 5194, 19869, 1, 37442, 4, 1, 221, 883, 31, 2988, 71, 4, 1, 5787, 10, 686, 2, 67, 1499, 54, 10, 216, 1, 383, 9, 62, 3, 1406, 3686, 783, 5, 3483, 180, 1, 382, 10, 1212, 13583, 32, 308, 3, 349, 341, 2913, 10, 143, 127, 5, 7690, 30, 4, 129, 5194, 1406, 2326, 5, 21025, 308, 10, 528, 12, 109, 1448, 4, 60, 543, 102, 12, 21025, 308, 6, 227, 4146, 48, 3, 2211, 12, 8, 215, 23]]\n"
     ]
    }
   ],
   "source": [
    "# stats about vocabulary\n",
    "print('Unique words: ', len((vocab_to_int)))  # should ~ 74000+\n",
    "print()\n",
    "\n",
    "# print tokens in first review\n",
    "print('Tokenized review: \\n', reviews_ints[:1])"
   ]
  },
  {
   "cell_type": "markdown",
   "id": "9da46c0e",
   "metadata": {},
   "source": [
    "### Encoding the labels\n",
    "\n",
    "Our labels are \"positive\" or \"negative\". To use these labels in our network, we need to convert them to 0 and 1.\n",
    "\n",
    "> **Exercise:** Convert labels from **`positive` and `negative` to 1 and 0**, respectively, and place those in a new list, `encoded_labels`."
   ]
  },
  {
   "cell_type": "code",
   "execution_count": null,
   "id": "d0b790c6",
   "metadata": {
    "gradient": {
     "execution_count": 8,
     "id": "d0b790c6",
     "kernelId": ""
    }
   },
   "outputs": [],
   "source": [
    "# 1=positive, 0=negative label conversion\n",
    "labels_split = labels.split('\\n')\n",
    "encoded_labels = np.array([1 if label == 'positive' else 0 for label in labels_split])"
   ]
  },
  {
   "cell_type": "markdown",
   "id": "d982594a",
   "metadata": {},
   "source": [
    "### Removing Outliers\n",
    "\n",
    "As an additional pre-processing step, we want to make sure that our reviews are in good shape for standard processing. That is, our network will expect a standard input text size, and so, we'll want to shape our reviews into a specific length. We'll approach this task in two main steps:\n",
    "\n",
    "1. Getting rid of extremely long or short reviews; the outliers\n",
    "2. Padding/truncating the remaining data so that we have reviews of the same length.\n",
    "\n",
    "<img src=\"assets/outliers_padding_ex.png\" width=40%>\n",
    "\n",
    "Before we pad our review text, we should check for reviews of extremely short or long lengths; outliers that may mess with our training."
   ]
  },
  {
   "cell_type": "code",
   "execution_count": null,
   "id": "be8de68f",
   "metadata": {
    "gradient": {
     "execution_count": 9,
     "id": "be8de68f",
     "kernelId": ""
    }
   },
   "outputs": [
    {
     "name": "stdout",
     "output_type": "stream",
     "text": [
      "Zero length reviews KEYS: 1\n",
      "Maximum length reviews KEYS: 2514\n"
     ]
    }
   ],
   "source": [
    "# Outlier review stats\n",
    "reviews_lengths = Counter([len(i) for i in reviews_ints])\n",
    "print('Zero length reviews KEYS: {}'.format(reviews_lengths[0]))\n",
    "print('Maximum length reviews KEYS: {}'.format(max(reviews_lengths)))"
   ]
  },
  {
   "cell_type": "markdown",
   "id": "604bdae1",
   "metadata": {},
   "source": [
    "Okay, a couple issues here. We seem to have one review with zero length. And, the maximum review length is way too many steps for our RNN. We'll have to remove any super short reviews and truncate super long reviews. This removes outliers and should allow our model to train more efficiently.\n",
    "\n",
    "> **Exercise:** First, remove *any* reviews with zero length from the `reviews_ints` list and their corresponding label in `encoded_labels`."
   ]
  },
  {
   "cell_type": "code",
   "execution_count": null,
   "id": "caf724e2",
   "metadata": {
    "gradient": {
     "editing": false,
     "execution_count": 10,
     "id": "caf724e2",
     "kernelId": ""
    }
   },
   "outputs": [
    {
     "name": "stdout",
     "output_type": "stream",
     "text": [
      "Number of reviews before removing outliers:  25001\n",
      "Number of reviews after removing outliers:  25000\n"
     ]
    }
   ],
   "source": [
    "print('Number of reviews before removing outliers: ', len(reviews_ints))\n",
    "\n",
    "## remove any reviews/labels with zero length from the reviews_ints list.\n",
    "non_zero_idx = [idx for idx, word in enumerate(reviews_ints) if len(word)!=0]\n",
    "\n",
    "# Removing the 0 with indices\n",
    "reviews_ints = [reviews_ints[i] for i in non_zero_idx]\n",
    "encoded_labels = [encoded_labels[i] for i in non_zero_idx]\n",
    "\n",
    "print('Number of reviews after removing outliers: ', len(reviews_ints))"
   ]
  },
  {
   "cell_type": "markdown",
   "id": "164eee29",
   "metadata": {
    "gradient": {
     "editing": false,
     "id": "164eee29",
     "kernelId": ""
    }
   },
   "source": [
    "---\n",
    "## Padding sequences\n",
    "\n",
    "To deal with both short and very long reviews, we'll pad or truncate all our reviews to a specific length. For reviews shorter than some `seq_length`, we'll pad with 0s. For reviews longer than `seq_length`, we can truncate them to the first `seq_length` words. A good `seq_length`, in this case, is 200.\n",
    "\n",
    "> **Exercise:** Define a function that returns an array `features` that contains the padded data, of a standard size, that we'll pass to the network. \n",
    "* The data should come from `review_ints`, since we want to feed integers to the network. \n",
    "* Each row should be `seq_length` elements long. \n",
    "* For reviews shorter than `seq_length` words, **left pad** with 0s. That is, if the review is `['best', 'movie', 'ever']`, `[117, 18, 128]` as integers, the row will look like `[0, 0, 0, ..., 0, 117, 18, 128]`. \n",
    "* For reviews longer than `seq_length`, use only the first `seq_length` words as the feature vector.\n",
    "\n",
    "As a small example, if the `seq_length=10` and an input review is: \n",
    "```\n",
    "[117, 18, 128]\n",
    "```\n",
    "The resultant, padded sequence should be: \n",
    "\n",
    "```\n",
    "[0, 0, 0, 0, 0, 0, 0, 117, 18, 128]\n",
    "```\n",
    "\n",
    "**Your final `features` array should be a 2D array, with as many rows as there are reviews, and as many columns as the specified `seq_length`.**\n",
    "\n",
    "This isn't trivial and there are a bunch of ways to do this. But, if you're going to be building your own deep learning networks, you're going to have to get used to preparing your data."
   ]
  },
  {
   "cell_type": "code",
   "execution_count": null,
   "id": "5861413b",
   "metadata": {
    "gradient": {
     "execution_count": 11,
     "id": "5861413b",
     "kernelId": ""
    }
   },
   "outputs": [
    {
     "name": "stdout",
     "output_type": "stream",
     "text": [
      "[[21025, 308, 6, 3, 1050, 207, 8, 2138, 32, 1, 171, 57, 15, 49, 81, 5785, 44, 382, 110, 140, 15, 5194, 60, 154, 9, 1, 4975, 5852, 475, 71, 5, 260, 12, 21025, 308, 13, 1978, 6, 74, 2395, 5, 613, 73, 6, 5194, 1, 24103, 5, 1983, 10166, 1, 5786, 1499, 36, 51, 66, 204, 145, 67, 1199, 5194, 19869, 1, 37442, 4, 1, 221, 883, 31, 2988, 71, 4, 1, 5787, 10, 686, 2, 67, 1499, 54, 10, 216, 1, 383, 9, 62, 3, 1406, 3686, 783, 5, 3483, 180, 1, 382, 10, 1212, 13583, 32, 308, 3, 349, 341, 2913, 10, 143, 127, 5, 7690, 30, 4, 129, 5194, 1406, 2326, 5, 21025, 308, 10, 528, 12, 109, 1448, 4, 60, 543, 102, 12, 21025, 308, 6, 227, 4146, 48, 3, 2211, 12, 8, 215, 23], [63, 4, 3, 125, 36, 47, 7472, 1395, 16, 3, 4181, 505, 45, 17, 3, 622, 134, 12, 6, 3, 1279, 457, 4, 1721, 207, 3, 10624, 7373, 300, 6, 667, 83, 35, 2116, 1086, 2989, 34, 1, 898, 46417, 4, 8, 13, 5096, 464, 8, 2656, 1721, 1, 221, 57, 17, 58, 794, 1297, 832, 228, 8, 43, 98, 123, 1469, 59, 147, 38, 1, 963, 142, 29, 667, 123, 1, 13584, 410, 61, 94, 1774, 306, 755, 5, 3, 819, 10396, 22, 3, 1724, 635, 8, 13, 128, 73, 21, 233, 102, 17, 49, 50, 617, 34, 682, 85, 28785, 28786, 682, 374, 3341, 11398, 2, 16371, 7946, 51, 29, 108, 3324]]\n"
     ]
    }
   ],
   "source": [
    "print(reviews_ints[:2])"
   ]
  },
  {
   "cell_type": "code",
   "execution_count": null,
   "id": "f69696ff",
   "metadata": {
    "gradient": {
     "editing": false,
     "execution_count": 12,
     "id": "f69696ff",
     "kernelId": ""
    }
   },
   "outputs": [],
   "source": [
    "def pad_features(reviews_ints, seq_length):\n",
    "    ''' Return features of review_ints, where each review is padded with 0's \n",
    "        or truncated to the input seq_length.\n",
    "    '''\n",
    "    \n",
    "    # getting the correct rows x cols shape\n",
    "    features = np.zeros((len(reviews_ints), seq_length), dtype=np.int64)\n",
    "\n",
    "    # for each review, I grab that review and \n",
    "    for i, row in enumerate(reviews_ints):\n",
    "        features[i, -len(row):] = np.array(row)[:seq_length]\n",
    "    \n",
    "    return features"
   ]
  },
  {
   "cell_type": "code",
   "execution_count": null,
   "id": "ef52f88e",
   "metadata": {
    "gradient": {
     "editing": false,
     "execution_count": 13,
     "id": "ef52f88e",
     "kernelId": ""
    }
   },
   "outputs": [
    {
     "name": "stdout",
     "output_type": "stream",
     "text": [
      "[[    0     0     0     0     0     0     0     0     0     0]\n",
      " [    0     0     0     0     0     0     0     0     0     0]\n",
      " [22382    42 46418    15   706 17139  3389    47    77    35]\n",
      " [ 4505   505    15     3  3342   162  8312  1652     6  4819]\n",
      " [    0     0     0     0     0     0     0     0     0     0]\n",
      " [    0     0     0     0     0     0     0     0     0     0]\n",
      " [    0     0     0     0     0     0     0     0     0     0]\n",
      " [    0     0     0     0     0     0     0     0     0     0]\n",
      " [    0     0     0     0     0     0     0     0     0     0]\n",
      " [   54    10    14   116    60   798   552    71   364     5]\n",
      " [    0     0     0     0     0     0     0     0     0     0]\n",
      " [    0     0     0     0     0     0     0     0     0     0]\n",
      " [    0     0     0     0     0     0     0     0     0     0]\n",
      " [    1   330   578    34     3   162   748  2731     9   325]\n",
      " [    9    11 10171  5305  1946   689   444    22   280   673]\n",
      " [    0     0     0     0     0     0     0     0     0     0]\n",
      " [    1   307 10399  2069  1565  6202  6528  3288 17946 10628]\n",
      " [    0     0     0     0     0     0     0     0     0     0]\n",
      " [   21   122  2069  1565   515  8181    88     6  1325  1182]\n",
      " [    1    20     6    76    40     6    58    81    95     5]\n",
      " [   54    10    84   329 26230 46427    63    10    14   614]\n",
      " [   11    20     6    30  1436 32317  3769   690 15100     6]\n",
      " [    0     0     0     0     0     0     0     0     0     0]\n",
      " [    0     0     0     0     0     0     0     0     0     0]\n",
      " [   40    26   109 17952  1422     9     1   327     4   125]\n",
      " [    0     0     0     0     0     0     0     0     0     0]\n",
      " [   10   499     1   307 10399    55    74     8    13    30]\n",
      " [    0     0     0     0     0     0     0     0     0     0]\n",
      " [    0     0     0     0     0     0     0     0     0     0]\n",
      " [    0     0     0     0     0     0     0     0     0     0]]\n"
     ]
    }
   ],
   "source": [
    "# Test your implementation!\n",
    "\n",
    "seq_length = 200\n",
    "\n",
    "features = pad_features(reviews_ints, seq_length=seq_length)\n",
    "\n",
    "## test statements - do not change - ##\n",
    "assert len(features)==len(reviews_ints), \"Your features should have as many rows as reviews.\"\n",
    "assert len(features[0])==seq_length, \"Each feature row should contain seq_length values.\"\n",
    "\n",
    "# print first 10 values of the first 30 batches \n",
    "print(features[:30,:10])"
   ]
  },
  {
   "cell_type": "markdown",
   "id": "3658394a",
   "metadata": {
    "gradient": {
     "editing": false,
     "id": "3658394a",
     "kernelId": ""
    }
   },
   "source": [
    "## Training, Validation, Test\n",
    "\n",
    "With our data in nice shape, we'll split it into training, validation, and test sets.\n",
    "\n",
    "> **Exercise:** Create the training, validation, and test sets. \n",
    "* You'll need to create sets for the features and the labels, `train_x` and `train_y`, for example. \n",
    "* Define a split fraction, `split_frac` as the fraction of data to **keep** in the training set. Usually this is set to 0.8 or 0.9. \n",
    "* Whatever data is left will be split in half to create the validation and *testing* data."
   ]
  },
  {
   "cell_type": "code",
   "execution_count": null,
   "id": "c4f7bd8a",
   "metadata": {
    "gradient": {
     "editing": false,
     "execution_count": 14,
     "id": "c4f7bd8a",
     "kernelId": ""
    }
   },
   "outputs": [
    {
     "name": "stdout",
     "output_type": "stream",
     "text": [
      "\t\t\tFeature Shapes:\n",
      "Train set: \t\t(20000, 200) \n",
      "Validation set: \t(2500, 200) \n",
      "Test set: \t\t(2500, 200)\n"
     ]
    }
   ],
   "source": [
    "split_frac = 0.8\n",
    "\n",
    "## split data into training, validation, and test data (features and labels, x and y)\n",
    "\n",
    "split_idx = int(len(features)*split_frac)\n",
    "train_x, remaining_x = features[:split_idx], features[split_idx:]\n",
    "train_y, remaining_y = encoded_labels[:split_idx], encoded_labels[split_idx:]\n",
    "\n",
    "test_idx = int(len(remaining_x)*0.5)\n",
    "val_x, test_x = remaining_x[:test_idx], remaining_x[test_idx:]\n",
    "val_y, test_y = remaining_y[:test_idx], remaining_y[test_idx:]\n",
    "\n",
    "## print out the shapes of your resultant feature data\n",
    "print(\"\\t\\t\\tFeature Shapes:\")\n",
    "print(\"Train set: \\t\\t{}\".format(train_x.shape), \n",
    "      \"\\nValidation set: \\t{}\".format(val_x.shape),\n",
    "      \"\\nTest set: \\t\\t{}\".format(test_x.shape))"
   ]
  },
  {
   "cell_type": "markdown",
   "id": "51fe634f",
   "metadata": {
    "gradient": {
     "editing": false,
     "id": "51fe634f",
     "kernelId": ""
    }
   },
   "source": [
    "**Check your work**\n",
    "\n",
    "With train, validation, and test fractions equal to 0.8, 0.1, 0.1, respectively, the final, feature data shapes should look like:\n",
    "```\n",
    "                    Feature Shapes:\n",
    "Train set: \t\t (20000, 200) \n",
    "Validation set: \t(2500, 200) \n",
    "Test set: \t\t  (2500, 200)\n",
    "```"
   ]
  },
  {
   "cell_type": "markdown",
   "id": "8a51b851",
   "metadata": {
    "gradient": {
     "editing": false,
     "id": "8a51b851",
     "kernelId": ""
    }
   },
   "source": [
    "---\n",
    "## DataLoaders and Batching\n",
    "\n",
    "After creating training, test, and validation data, we can create DataLoaders for this data by following two steps:\n",
    "1. Create a known format for accessing our data, using [TensorDataset](https://pytorch.org/docs/stable/data.html#) which takes in an input set of data and a target set of data with the same first dimension, and creates a dataset.\n",
    "2. Create DataLoaders and batch our training, validation, and test Tensor datasets.\n",
    "\n",
    "```\n",
    "train_data = TensorDataset(torch.from_numpy(train_x), torch.from_numpy(train_y))\n",
    "train_loader = DataLoader(train_data, shuffle=True, batch_size=batch_size)\n",
    "```\n",
    "\n",
    "This is an alternative to creating a generator function for batching our data into full batches."
   ]
  },
  {
   "cell_type": "code",
   "execution_count": null,
   "id": "1fa41fc0",
   "metadata": {
    "gradient": {
     "execution_count": 15,
     "id": "1fa41fc0",
     "kernelId": ""
    }
   },
   "outputs": [
    {
     "data": {
      "text/plain": [
       "numpy.ndarray"
      ]
     },
     "execution_count": 15,
     "metadata": {},
     "output_type": "execute_result"
    }
   ],
   "source": [
    "type(train_x)"
   ]
  },
  {
   "cell_type": "code",
   "execution_count": null,
   "id": "50e2bc04",
   "metadata": {
    "gradient": {
     "execution_count": 16,
     "id": "50e2bc04",
     "kernelId": ""
    }
   },
   "outputs": [],
   "source": [
    "import torch\n",
    "from torch.utils.data import TensorDataset, DataLoader\n",
    "\n",
    "\n",
    "# create Tensor datasets\n",
    "# Remember we faced difficulties while making train_data soln in forum (np.asarray(x))\n",
    "\n",
    "train_data = TensorDataset(torch.from_numpy(np.asarray(train_x)), torch.from_numpy(np.asarray(train_y)))\n",
    "valid_data = TensorDataset(torch.from_numpy(np.asarray(val_x)), torch.from_numpy(np.asarray(val_y)))\n",
    "test_data = TensorDataset(torch.from_numpy(np.asarray(test_x)), torch.from_numpy(np.asarray(test_y)))\n",
    "\n",
    "# dataloaders\n",
    "batch_size = 50\n",
    "\n",
    "# make sure to SHUFFLE your data\n",
    "train_loader = DataLoader(train_data, shuffle=True, batch_size=batch_size)\n",
    "valid_loader = DataLoader(valid_data, shuffle=True, batch_size=batch_size)\n",
    "test_loader = DataLoader(test_data, shuffle=True, batch_size=batch_size)"
   ]
  },
  {
   "cell_type": "code",
   "execution_count": null,
   "id": "184c20d5",
   "metadata": {
    "gradient": {
     "execution_count": 17,
     "id": "184c20d5",
     "kernelId": ""
    }
   },
   "outputs": [
    {
     "name": "stdout",
     "output_type": "stream",
     "text": [
      "Sample input size:  torch.Size([50, 200])\n",
      "Sample input: \n",
      " tensor([[    0,     0,     0,  ...,  1401,   434,  1521],\n",
      "        [    0,     0,     0,  ...,  1713,    23, 36558],\n",
      "        [    0,     0,     0,  ...,    29,     3,    18],\n",
      "        ...,\n",
      "        [   11,    18,   483,  ...,   215,    23,   774],\n",
      "        [   10,  1805,   379,  ...,   145,   117,     9],\n",
      "        [   10,   216,    11,  ...,    80,    48,     6]])\n",
      "\n",
      "Sample label size:  torch.Size([50])\n",
      "Sample label: \n",
      " tensor([1, 0, 0, 0, 1, 1, 1, 0, 0, 1, 1, 1, 0, 0, 1, 0, 0, 1, 0, 0, 1, 1, 0, 0,\n",
      "        1, 1, 1, 1, 1, 0, 0, 0, 1, 1, 0, 0, 1, 0, 1, 1, 0, 1, 0, 0, 0, 0, 0, 0,\n",
      "        1, 1])\n"
     ]
    }
   ],
   "source": [
    "# obtain one batch of training data\n",
    "dataiter = iter(train_loader)\n",
    "sample_x, sample_y = dataiter.next()\n",
    "\n",
    "print('Sample input size: ', sample_x.size()) # batch_size, seq_length\n",
    "print('Sample input: \\n', sample_x)\n",
    "print()\n",
    "print('Sample label size: ', sample_y.size()) # batch_size\n",
    "print('Sample label: \\n', sample_y)"
   ]
  },
  {
   "cell_type": "markdown",
   "id": "db3c6ff8",
   "metadata": {},
   "source": [
    "---\n",
    "# Sentiment Network with PyTorch\n",
    "\n",
    "Below is where you'll define the network.\n",
    "\n",
    "<img src=\"assets/network_diagram.png\" width=40%>\n",
    "\n",
    "The layers are as follows:\n",
    "1. An [embedding layer](https://pytorch.org/docs/stable/nn.html#embedding) that converts our word tokens (integers) into embeddings of a specific size.\n",
    "2. An [LSTM layer](https://pytorch.org/docs/stable/nn.html#lstm) defined by a hidden_state size and number of layers\n",
    "3. A fully-connected output layer that maps the LSTM layer outputs to a desired output_size\n",
    "4. A sigmoid activation layer which turns all outputs into a value 0-1; return **only the last sigmoid output** as the output of this network.\n",
    "\n",
    "### The Embedding Layer\n",
    "\n",
    "We need to add an [embedding layer](https://pytorch.org/docs/stable/nn.html#embedding) because there are 74000+ words in our vocabulary. It is massively inefficient to one-hot encode that many classes. So, instead of one-hot encoding, we can have an embedding layer and use that layer as a lookup table. You could train an embedding layer using Word2Vec, then load it here. But, it's fine to just make a new layer, using it for only dimensionality reduction, and let the network learn the weights.\n",
    "\n",
    "\n",
    "### The LSTM Layer(s)\n",
    "\n",
    "We'll create an [LSTM](https://pytorch.org/docs/stable/nn.html#lstm) to use in our recurrent network, which takes in an input_size, a hidden_dim, a number of layers, a dropout probability (for dropout between multiple layers), and a batch_first parameter.\n",
    "\n",
    "Most of the time, your network will have better performance with more layers; between 2-3. Adding more layers allows the network to learn really complex relationships. \n",
    "\n",
    "> **Exercise:** Complete the `__init__`, `forward`, and `init_hidden` functions for the SentimentRNN model class.\n",
    "\n",
    "Note: `init_hidden` should initialize the hidden and cell state of an lstm layer to all zeros, and move those state to GPU, if available."
   ]
  },
  {
   "cell_type": "code",
   "execution_count": null,
   "id": "a9cfa889",
   "metadata": {
    "gradient": {
     "id": "a9cfa889",
     "kernelId": ""
    }
   },
   "outputs": [],
   "source": []
  },
  {
   "cell_type": "code",
   "execution_count": null,
   "id": "316839d1",
   "metadata": {
    "gradient": {
     "execution_count": 18,
     "id": "316839d1",
     "kernelId": ""
    }
   },
   "outputs": [
    {
     "name": "stdout",
     "output_type": "stream",
     "text": [
      "Traning on the GPU\n"
     ]
    }
   ],
   "source": [
    "# First checking if GPU is available\n",
    "train_on_gpu = torch.cuda.is_available()\n",
    "\n",
    "if (train_on_gpu):\n",
    "    print(\"Traning on the GPU\")\n",
    "else:\n",
    "    print(\"No GPU available, Traning on the CPU\")"
   ]
  },
  {
   "cell_type": "code",
   "execution_count": null,
   "id": "499cfda4",
   "metadata": {
    "gradient": {
     "execution_count": 19,
     "id": "499cfda4",
     "kernelId": ""
    }
   },
   "outputs": [],
   "source": [
    "from torch import nn\n",
    "\n",
    "class SentimentRNN(nn.Module):\n",
    "    def __init__(self, vocab_size, output_size, embedding_dim, hidden_dim, n_layers, drop_prob = 0.5):\n",
    "        \"\"\"\n",
    "        Initializing the model by setting up the layers.\n",
    "        \n",
    "        \"\"\"\n",
    "        super(SentimentRNN, self).__init__()\n",
    "        \n",
    "        self.ouptut_size = output_size\n",
    "        self.n_layers = n_layers\n",
    "        self.hidden_dim = hidden_dim\n",
    "        self.vocab_size = vocab_size\n",
    "        self.embedding_dim = embedding_dim\n",
    "        self.drop_prob = drop_prob\n",
    "        \n",
    "        # define all layers\n",
    "        \n",
    "        # Define the embedding layer\n",
    "        self.embeddings = nn.Embedding(vocab_size, embedding_dim)\n",
    "        \n",
    "        ## TODO: define the LSTM\n",
    "        self.lstm = nn.LSTM(embedding_dim, hidden_dim, n_layers, dropout = drop_prob, batch_first = True)\n",
    "        \n",
    "        # Define Dropout layer\n",
    "        self.dropout = nn.Dropout(0.3)\n",
    "        \n",
    "        # Define the Linear and fully connected layer\n",
    "        self.fc = nn.Linear(hidden_dim, output_size)\n",
    "        \n",
    "        # Define the sigmoid function to apply at the last\n",
    "        self.sig = nn.Sigmoid()\n",
    "        \n",
    "        \n",
    "    def forward(self, x, hidden):\n",
    "        \"\"\"\n",
    "        Perform the forward pass of our model on some input and hidden states\n",
    "        \"\"\"\n",
    "        \n",
    "        batch_size = x.shape[0]\n",
    "        \n",
    "        # pass data to the embedding layer\n",
    "        x = self.embeddings(x)\n",
    "        \n",
    "        # pass data to the LSTM layer\n",
    "        output, hidden = self.lstm(x, hidden)\n",
    "        \n",
    "        # dropout prevent overfitting the data\n",
    "        output = self.dropout(output)\n",
    "        \n",
    "        # Flatten the before pass the linear layer\n",
    "        output = output.contiguous().view(-1, self.hidden_dim)\n",
    "        \n",
    "        # Finally, pass to the fully connected layer\n",
    "        output = self.fc(output)\n",
    "        \n",
    "        # Apply the sigmoid\n",
    "        sig_out = self.sig(output)\n",
    "        \n",
    "        # get the last batch of the output(labels) according to the above architecture for sentiment analysis.\n",
    "        sig_out = sig_out.view(batch_size, -1)  # reshape batch_size first\n",
    "        sig_out = sig_out[:, -1]  \n",
    "        \n",
    "        # return the last sigmoid and hidden state\n",
    "        return sig_out, hidden\n",
    "    \n",
    "    def init_hidden(self, batch_size):\n",
    "        \"\"\" Initialize the hidden state \"\"\"\n",
    "        # Create two new tensors with sizes n_layers x batch_size x hidden_dim,\n",
    "        # initialized to zero, for hidden state and cell state of LSTM.\n",
    "        weight = next(self.parameters()).data\n",
    "        \n",
    "        if train_on_gpu:\n",
    "            hidden = (weight.new(self.n_layers, batch_size, self.hidden_dim).zero_().cuda(),\n",
    "                     weight.new(self.n_layers, batch_size, self.hidden_dim).zero_().cuda())\n",
    "        else:\n",
    "            hidden = (weight.new(self.n_layers, batch_size, self.hidden_dim).zero_(),\n",
    "                     weight.new(self.n_layers, batch_size, self.hidden_dim).zero_())\n",
    "        \n",
    "        return hidden\n",
    "    \n",
    "        "
   ]
  },
  {
   "cell_type": "markdown",
   "id": "13f5f2f3",
   "metadata": {},
   "source": [
    "## Instantiate the network\n",
    "\n",
    "Here, we'll instantiate the network. First up, defining the hyperparameters.\n",
    "\n",
    "* `vocab_size`: Size of our vocabulary or the range of values for our input, word tokens.\n",
    "* `output_size`: Size of our desired output; the number of class scores we want to output (pos/neg).\n",
    "* `embedding_dim`: Number of columns in the embedding lookup table; size of our embeddings.\n",
    "* `hidden_dim`: Number of units in the hidden layers of our LSTM cells. Usually larger is better performance wise. Common values are 128, 256, 512, etc.\n",
    "* `n_layers`: Number of LSTM layers in the network. Typically between 1-3\n",
    "\n",
    "> **Exercise:** Define the model  hyperparameters.\n"
   ]
  },
  {
   "cell_type": "code",
   "execution_count": null,
   "id": "d4f94101",
   "metadata": {
    "gradient": {
     "execution_count": 20,
     "id": "d4f94101",
     "kernelId": ""
    }
   },
   "outputs": [
    {
     "name": "stdout",
     "output_type": "stream",
     "text": [
      "SentimentRNN(\n",
      "  (embeddings): Embedding(74073, 400)\n",
      "  (lstm): LSTM(400, 256, num_layers=2, batch_first=True, dropout=0.5)\n",
      "  (dropout): Dropout(p=0.3, inplace=False)\n",
      "  (fc): Linear(in_features=256, out_features=1, bias=True)\n",
      "  (sig): Sigmoid()\n",
      ")\n"
     ]
    }
   ],
   "source": [
    "# Instantiate the model w/ hyperparams\n",
    "vocab_size = len(vocab_to_int) + 1  # +1 for the 0 padding + our word tokens\n",
    "output_size = 1\n",
    "embedding_dim = 400\n",
    "hidden_dim = 256\n",
    "n_layers = 2\n",
    "\n",
    "net = SentimentRNN(vocab_size, output_size, embedding_dim, hidden_dim, n_layers)\n",
    "\n",
    "print(net)"
   ]
  },
  {
   "cell_type": "markdown",
   "id": "8a34bcd4",
   "metadata": {},
   "source": [
    "---\n",
    "## Training\n",
    "\n",
    "Below is the typical training code. If you want to do this yourself, feel free to delete all this code and implement it yourself. You can also add code to save a model by name.\n",
    "\n",
    ">We'll also be using a new kind of cross entropy loss, which is designed to work with a single Sigmoid output. [BCELoss](https://pytorch.org/docs/stable/nn.html#bceloss), or **Binary Cross Entropy Loss**, applies cross entropy loss to a single value between 0 and 1.\n",
    "\n",
    "We also have some data and training hyparameters:\n",
    "\n",
    "* `lr`: Learning rate for our optimizer.\n",
    "* `epochs`: Number of times to iterate through the training dataset.\n",
    "* `clip`: The maximum gradient value to clip at (to prevent exploding gradients)."
   ]
  },
  {
   "cell_type": "code",
   "execution_count": null,
   "id": "0fd9e2a5",
   "metadata": {
    "gradient": {
     "execution_count": 21,
     "id": "0fd9e2a5",
     "kernelId": ""
    }
   },
   "outputs": [],
   "source": [
    "from torch import optim"
   ]
  },
  {
   "cell_type": "code",
   "execution_count": null,
   "id": "3c0487f4",
   "metadata": {
    "gradient": {
     "execution_count": 22,
     "id": "3c0487f4",
     "kernelId": ""
    }
   },
   "outputs": [],
   "source": [
    "# loss and optimization functions\n",
    "lr = 0.001\n",
    "\n",
    "criterion = nn.BCELoss()\n",
    "optimizer = optim.Adam(net.parameters(), lr = lr)"
   ]
  },
  {
   "cell_type": "code",
   "execution_count": null,
   "id": "db43a8a7",
   "metadata": {
    "gradient": {
     "execution_count": 23,
     "id": "db43a8a7",
     "kernelId": ""
    }
   },
   "outputs": [
    {
     "name": "stderr",
     "output_type": "stream",
     "text": [
      "/tmp/ipykernel_98/3233794646.py:44: UserWarning: torch.nn.utils.clip_grad_norm is now deprecated in favor of torch.nn.utils.clip_grad_norm_.\n",
      "  nn.utils.clip_grad_norm(net.parameters(), clip)\n"
     ]
    },
    {
     "name": "stdout",
     "output_type": "stream",
     "text": [
      "Epoch: 1/3 Step: 100... Tranining Loss: 0.693368 Validation Loss: 0.628374\n",
      "Epoch: 1/3 Step: 200... Tranining Loss: 0.624657 Validation Loss: 0.645239\n",
      "Epoch: 1/3 Step: 300... Tranining Loss: 0.697585 Validation Loss: 0.722950\n",
      "Epoch: 1/3 Step: 400... Tranining Loss: 0.545560 Validation Loss: 0.547032\n",
      "Epoch: 2/3 Step: 500... Tranining Loss: 0.541139 Validation Loss: 0.482640\n",
      "Epoch: 2/3 Step: 600... Tranining Loss: 0.572084 Validation Loss: 0.478795\n",
      "Epoch: 2/3 Step: 700... Tranining Loss: 0.437389 Validation Loss: 0.474145\n",
      "Epoch: 2/3 Step: 800... Tranining Loss: 0.457353 Validation Loss: 0.448190\n",
      "Epoch: 3/3 Step: 900... Tranining Loss: 0.398582 Validation Loss: 0.480708\n",
      "Epoch: 3/3 Step: 1000... Tranining Loss: 0.471892 Validation Loss: 0.446289\n",
      "Epoch: 3/3 Step: 1100... Tranining Loss: 0.470503 Validation Loss: 0.448442\n",
      "Epoch: 3/3 Step: 1200... Tranining Loss: 0.747651 Validation Loss: 0.448629\n",
      "Tranning time 144.921918.....\n"
     ]
    }
   ],
   "source": [
    "# training the program\n",
    "import time\n",
    "\n",
    "start = time.time()\n",
    "\n",
    "epochs = 3  # I noticed, after 4 epoch validation loss start increasing \n",
    "\n",
    "counter = 0\n",
    "print_every = 100\n",
    "clip = 5 # Clipping the gradient\n",
    "\n",
    "# Move to the GPU, if available\n",
    "if train_on_gpu:\n",
    "    net.cuda()\n",
    "\n",
    "net.train()\n",
    "# Train for the some number of epoch\n",
    "for epoch in range(epochs):\n",
    "    # initialize the hidden state\n",
    "    hidden = net.init_hidden(batch_size)\n",
    "\n",
    "    # Batch loop\n",
    "    for inputs, labels in train_loader:\n",
    "        counter += 1\n",
    "\n",
    "        if train_on_gpu:\n",
    "            inputs, labels = inputs.cuda(), labels.cuda()\n",
    "\n",
    "        # Creating the new vaariable for hidden state, otherwise\n",
    "        # we'd backprop throgh entire training history\n",
    "        hidden = tuple([each.data for each in hidden])\n",
    "\n",
    "        # Zero accumulated gradient\n",
    "        net.zero_grad()\n",
    "\n",
    "        # Get the output from the model\n",
    "        output, hidden = net(inputs, hidden)\n",
    "\n",
    "        # Calculate the loss and perform backprop\n",
    "        loss = criterion(output.squeeze(), labels.float())\n",
    "        loss.backward()\n",
    "\n",
    "        # 'clip_grad_norm' helps prevent exploding the gradient problem in RNNs / LSTMs\n",
    "        nn.utils.clip_grad_norm(net.parameters(), clip)\n",
    "        optimizer.step()\n",
    "\n",
    "        # Loss stats:\n",
    "        if counter % print_every == 0:\n",
    "            # Get validation loss\n",
    "            val_hidden = net.init_hidden(batch_size)\n",
    "            val_losses = []\n",
    "            net.eval()\n",
    "\n",
    "            for inputs, labels in valid_loader:\n",
    "\n",
    "                # move to the gpu\n",
    "                if train_on_gpu:\n",
    "                    inputs, labels = inputs.cuda(), labels.cuda()\n",
    "\n",
    "                val_hidden = tuple([each.data for each in val_hidden])\n",
    "\n",
    "                # Pass the data to the model\n",
    "                output, val_hidden = net(inputs, val_hidden)\n",
    "                # Compute the loss\n",
    "                loss = criterion(output.squeeze(), labels.float())\n",
    "                val_losses.append(loss.item())\n",
    "\n",
    "            net.train()  # back to the training mode after iterating throught he validation\n",
    "\n",
    "            print('Epoch: {}/{}'.format(epoch+1, epochs),\n",
    "                  'Step: {}...'.format(counter),\n",
    "                  'Tranining Loss: {:.6f}'.format(loss.item()),\n",
    "                  'Validation Loss: {:.6f}'.format(np.mean(val_losses)))\n",
    "\n",
    "end = time.time()\n",
    "print(\"Tranning time {:5f}.....\".format(end-start))\n",
    "                "
   ]
  },
  {
   "cell_type": "markdown",
   "id": "3bcff07b",
   "metadata": {},
   "source": [
    "---\n",
    "## Testing\n",
    "\n",
    "There are a few ways to test your network.\n",
    "\n",
    "* **Test data performance:** First, we'll see how our trained model performs on all of our defined test_data, above. We'll calculate the average loss and accuracy over the test data.\n",
    "\n",
    "* **Inference on user-generated data:** Second, we'll see if we can input just one example review at a time (without a label), and see what the trained model predicts. Looking at new, user input data like this, and predicting an output label, is called **inference**."
   ]
  },
  {
   "cell_type": "markdown",
   "id": "25f933eb",
   "metadata": {},
   "source": [
    "#### We can save the model but I'm skipping here "
   ]
  },
  {
   "cell_type": "code",
   "execution_count": null,
   "id": "c99a536a",
   "metadata": {
    "gradient": {
     "execution_count": 24,
     "id": "c99a536a",
     "kernelId": ""
    }
   },
   "outputs": [
    {
     "name": "stdout",
     "output_type": "stream",
     "text": [
      "Average Test Loss:  0.446\n",
      "Test accuracy: 0.793\n"
     ]
    }
   ],
   "source": [
    "# Get test data loss and accuracy\n",
    "\n",
    "test_losses = []\n",
    "num_correct = 0\n",
    "\n",
    "# init hidden state\n",
    "hidden = net.init_hidden(batch_size)\n",
    "\n",
    "net.eval()\n",
    "# Iterate over the test data\n",
    "for inputs, labels in test_loader:\n",
    "    # Go over the hidden state that we initialized\n",
    "    hidden = tuple([each.data for each in hidden])\n",
    "    \n",
    "    # Move to the GPU\n",
    "    if train_on_gpu:\n",
    "        inputs, labels = inputs.cuda(), labels.cuda()\n",
    "    \n",
    "    # pass data to the model\n",
    "    output, hidden = net(inputs, hidden)\n",
    "    \n",
    "    # Calculate the loss\n",
    "    loss = criterion(output.squeeze(), labels.float())\n",
    "    test_losses.append(loss.item())\n",
    "    \n",
    "    # convert output probabilities to predicted class (0 or 1)\n",
    "    pred = torch.round(output.squeeze())  # rouding the nearest integer\n",
    "    \n",
    "    # Compare prediction to the true labels\n",
    "    correct_tensor = pred.eq(labels.float().view_as(pred))\n",
    "    # Shift to the cpu\n",
    "    correct = np.squeeze(correct_tensor.numpy()) if not train_on_gpu else np.squeeze(correct_tensor.cpu().numpy())\n",
    "    num_correct += np.sum(correct)\n",
    "    \n",
    "#-----stats!----#\n",
    "# Average test loss\n",
    "print(\"Average Test Loss:  {:.3f}\".format(np.mean(test_losses)))\n",
    "\n",
    "# Accuracy over all test data\n",
    "test_accu = num_correct/len(test_loader.dataset)\n",
    "print(\"Test accuracy: {:.3f}\".format(test_accu))\n",
    "    "
   ]
  },
  {
   "cell_type": "markdown",
   "id": "b585407a",
   "metadata": {},
   "source": [
    "### Inference on a test review\n",
    "\n",
    "You can change this test_review to any text that you want. Read it and think: is it pos or neg? Then see if your model predicts correctly!\n",
    "    \n",
    "> **Exercise:** Write a `predict` function that takes in a trained net, a plain text_review, and a sequence length, and prints out a custom statement for a positive or negative review!\n",
    "* You can use any functions that you've already defined or define any helper functions you want to complete `predict`, but it should just take in a trained net, a text review, and a sequence length.\n"
   ]
  },
  {
   "cell_type": "code",
   "execution_count": null,
   "id": "f6edfc7d",
   "metadata": {
    "gradient": {
     "execution_count": 25,
     "id": "f6edfc7d",
     "kernelId": ""
    }
   },
   "outputs": [],
   "source": [
    "# negative test review\n",
    "test_review_neg = 'The worst movie I have seen; acting was terrible and I want my money back. This movie had bad acting and the dialogue was slow.'\n"
   ]
  },
  {
   "cell_type": "code",
   "execution_count": null,
   "id": "cbe05747",
   "metadata": {
    "gradient": {
     "execution_count": 26,
     "id": "cbe05747",
     "kernelId": ""
    }
   },
   "outputs": [],
   "source": [
    "from string import punctuation\n",
    "\n",
    "def tokenize(review):\n",
    "    reviews = review.lower()\n",
    "    all_text = ''.join([c for c in reviews if c not in punctuation])\n",
    "    \n",
    "    words = all_text.split()\n",
    "    \n",
    "    reviews_ints = []\n",
    "    \n",
    "    reviews_ints.append([vocab_to_int[word] for word in words])  # we are getting only numbers and appending into the list \n",
    "        \n",
    "    return reviews_ints\n"
   ]
  },
  {
   "cell_type": "code",
   "execution_count": null,
   "id": "40253a24",
   "metadata": {
    "gradient": {
     "execution_count": 27,
     "id": "40253a24",
     "kernelId": ""
    }
   },
   "outputs": [
    {
     "data": {
      "text/plain": [
       "[[1,\n",
       "  247,\n",
       "  18,\n",
       "  10,\n",
       "  28,\n",
       "  108,\n",
       "  113,\n",
       "  14,\n",
       "  388,\n",
       "  2,\n",
       "  10,\n",
       "  181,\n",
       "  60,\n",
       "  273,\n",
       "  144,\n",
       "  11,\n",
       "  18,\n",
       "  68,\n",
       "  76,\n",
       "  113,\n",
       "  2,\n",
       "  1,\n",
       "  410,\n",
       "  14,\n",
       "  539]]"
      ]
     },
     "execution_count": 27,
     "metadata": {},
     "output_type": "execute_result"
    }
   ],
   "source": [
    "tokenize(test_review_neg)"
   ]
  },
  {
   "cell_type": "code",
   "execution_count": null,
   "id": "fe639995",
   "metadata": {
    "gradient": {
     "execution_count": 28,
     "id": "fe639995",
     "kernelId": ""
    }
   },
   "outputs": [],
   "source": [
    "# from string import punctuation\n",
    "\n",
    "# def tokenize_review(test_review):\n",
    "#     test_review = test_review.lower() # lowercase\n",
    "#     # get rid of punctuation\n",
    "#     test_text = ''.join([c for c in test_review if c not in punctuation])\n",
    "\n",
    "#     # splitting by spaces\n",
    "#     test_words = test_text.split()\n",
    "\n",
    "#     # tokens\n",
    "#     test_ints = []\n",
    "#     test_ints.append([vocab_to_int[word] for word in test_words])\n",
    "\n",
    "#     return test_ints"
   ]
  },
  {
   "cell_type": "code",
   "execution_count": null,
   "id": "38ea243d",
   "metadata": {
    "gradient": {
     "execution_count": 29,
     "id": "38ea243d",
     "kernelId": ""
    }
   },
   "outputs": [],
   "source": [
    "# def predict(net, test_review, sequence_length=200):\n",
    "\n",
    "#     net.eval()\n",
    "\n",
    "#     # tokenize review\n",
    "#     test_ints = tokenation_review(test_review)\n",
    "\n",
    "#     # pad tokenized sequence\n",
    "#     seq_length=sequence_length\n",
    "#     features = pad_features(test_ints, seq_length)\n",
    "\n",
    "#     # convert to tensor to pass into your model\n",
    "#     feature_tensor = torch.from_numpy(features)\n",
    "\n",
    "#     batch_size = feature_tensor.size(0)\n",
    "\n",
    "#     # initialize hidden state\n",
    "#     h = net.init_hidden(batch_size)\n",
    "\n",
    "#     if(train_on_gpu):\n",
    "#         feature_tensor = feature_tensor.cuda()\n",
    "\n",
    "#     # get the output from the model\n",
    "#     output, h = net(feature_tensor, h)\n",
    "\n",
    "#     # convert output probabilities to predicted class (0 or 1)\n",
    "#     pred = torch.round(output.squeeze()) \n",
    "#     # printing output value, before rounding\n",
    "#     print('Prediction value, pre-rounding: {:.6f}'.format(output.item()))\n",
    "\n",
    "#     # print custom response\n",
    "#     if(pred.item()==1):\n",
    "#         print(\"Positive review detected!\")\n",
    "#     else:\n",
    "#         print(\"Negative review detected.\")"
   ]
  },
  {
   "cell_type": "code",
   "execution_count": null,
   "id": "979a42ff",
   "metadata": {
    "gradient": {
     "execution_count": 30,
     "id": "979a42ff",
     "kernelId": ""
    }
   },
   "outputs": [],
   "source": [
    "def predict(net, test_review, sequence_length=200):\n",
    "    ''' Prints out whether a give review is predicted to be \n",
    "        positive or negative in sentiment, using a trained model.\n",
    "\n",
    "        params:\n",
    "        net - A trained net \n",
    "        test_review - a review made of normal text and punctuation\n",
    "        sequence_length - the padded length of a review\n",
    "        '''\n",
    "    net.eval()\n",
    "\n",
    "    # First preprocess the text \n",
    "    review = tokenize(test_review)\n",
    "    seq_length = sequence_length\n",
    "    features = pad_features(review, seq_length)\n",
    "    \n",
    "    # Convert numpy array into tensor\n",
    "    features_tensor = torch.from_numpy(features)\n",
    "    \n",
    "    # batch size\n",
    "    batch_size = features_tensor.shape[0]\n",
    "    \n",
    "    # Intialize the hidden state\n",
    "    hidden = net.init_hidden(batch_size)\n",
    "    \n",
    "    # Lets move on GPU\n",
    "    if train_on_gpu:\n",
    "        features_tensor = features_tensor.cuda()\n",
    "        \n",
    "    # Get the output from the model\n",
    "    output, hidden = net(features_tensor, hidden)\n",
    "    \n",
    "    # convert output probabilities to predicted class (0 or 1)\n",
    "    pred = torch.round(output.squeeze())\n",
    "    \n",
    "    # printing output value, before rounding\n",
    "    print('Prediction value, pre-rounding: {:.6f}'.format(output.item()))\n",
    "    \n",
    "    # Print in response\n",
    "    if pred.item() == 1:\n",
    "        print(\"Positive review detected!\")\n",
    "    else:\n",
    "        print(\"Negative review detected!\")\n",
    "    \n",
    "    \n",
    "    \n",
    "    # print custom response based on whether test_review is pos/neg\n",
    "    \n",
    "\n"
   ]
  },
  {
   "cell_type": "code",
   "execution_count": null,
   "id": "6e13c9fe",
   "metadata": {
    "gradient": {
     "execution_count": 31,
     "id": "6e13c9fe",
     "kernelId": ""
    }
   },
   "outputs": [],
   "source": [
    "# positive test review\n",
    "test_review_pos = \"\"\"one of the outstanding, excellent movies of hot Chocolate, hot Shot\"\"\""
   ]
  },
  {
   "cell_type": "code",
   "execution_count": null,
   "id": "36ea9e00",
   "metadata": {
    "gradient": {
     "execution_count": 32,
     "id": "36ea9e00",
     "kernelId": ""
    }
   },
   "outputs": [],
   "source": [
    "test_review_neg = \"I hate this moive\""
   ]
  },
  {
   "cell_type": "code",
   "execution_count": null,
   "id": "78b507fd",
   "metadata": {
    "gradient": {
     "execution_count": 34,
     "id": "78b507fd",
     "kernelId": ""
    }
   },
   "outputs": [
    {
     "name": "stdout",
     "output_type": "stream",
     "text": [
      "Prediction value, pre-rounding: 0.282652\n",
      "Negative review detected!\n"
     ]
    }
   ],
   "source": [
    "# call function\n",
    "# try negative and positive reviews!\n",
    "seq_length=200  # Good to use training sequence\n",
    "predict(net, test_review_neg, seq_length)"
   ]
  },
  {
   "cell_type": "code",
   "execution_count": null,
   "id": "7bea1a64",
   "metadata": {
    "gradient": {
     "id": "7bea1a64",
     "kernelId": ""
    }
   },
   "outputs": [],
   "source": []
  },
  {
   "cell_type": "code",
   "execution_count": null,
   "id": "41eeb814",
   "metadata": {
    "gradient": {
     "id": "41eeb814",
     "kernelId": ""
    }
   },
   "outputs": [],
   "source": []
  }
 ],
 "metadata": {
  "kernelspec": {
   "display_name": "Python 3 (ipykernel)",
   "language": "python",
   "name": "python3"
  },
  "language_info": {
   "codemirror_mode": {
    "name": "ipython",
    "version": 3
   },
   "file_extension": ".py",
   "mimetype": "text/x-python",
   "name": "python",
   "nbconvert_exporter": "python",
   "pygments_lexer": "ipython3",
   "version": "3.8.12"
  }
 },
 "nbformat": 4,
 "nbformat_minor": 5
}
