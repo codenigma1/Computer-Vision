{
 "cells": [
  {
   "cell_type": "markdown",
   "id": "76d45b59",
   "metadata": {},
   "source": [
    "# **Using GANs to generate handwritten digits**"
   ]
  },
  {
   "cell_type": "markdown",
   "id": "150345f1",
   "metadata": {},
   "source": [
    "To generate images of handwritten digits, we will leverage the same network as we\n",
    "learned about in the previous section. The strategy we will adopt is as follows:\n",
    "1. Import MNIST data.\n",
    "2. Initialize random noise.\n",
    "3. Define the generator model.\n",
    "4. Define the discriminator model.\n",
    "5. Train the two models alternately.\n",
    "6. Let the model train until the generator and discriminator losses are largely\n",
    "the same."
   ]
  },
  {
   "cell_type": "markdown",
   "id": "d20f530a",
   "metadata": {},
   "source": [
    "<img src=\"GAN_1.png\" width=600 height=700 />"
   ]
  },
  {
   "cell_type": "code",
   "execution_count": 1,
   "id": "69d5b278",
   "metadata": {},
   "outputs": [
    {
     "name": "stdout",
     "output_type": "stream",
     "text": [
      "Looking in indexes: https://pypi.org/simple, https://pypi.ngc.nvidia.com\n",
      "Requirement already satisfied: jsonlines in /opt/conda/lib/python3.8/site-packages (3.0.0)\n",
      "Requirement already satisfied: attrs>=19.2.0 in /opt/conda/lib/python3.8/site-packages (from jsonlines) (21.2.0)\n",
      "\u001b[33mWARNING: Running pip as the 'root' user can result in broken permissions and conflicting behaviour with the system package manager. It is recommended to use a virtual environment instead: https://pip.pypa.io/warnings/venv\u001b[0m\n"
     ]
    }
   ],
   "source": [
    "!pip install jsonlines"
   ]
  },
  {
   "cell_type": "code",
   "execution_count": 2,
   "id": "b529d552",
   "metadata": {},
   "outputs": [
    {
     "name": "stdout",
     "output_type": "stream",
     "text": [
      "\u001b[33mWARNING: Running pip as the 'root' user can result in broken permissions and conflicting behaviour with the system package manager. It is recommended to use a virtual environment instead: https://pip.pypa.io/warnings/venv\u001b[0m\n"
     ]
    }
   ],
   "source": [
    "!pip install -q torch_snippets\n",
    "import torch.utils.data\n",
    "from torch_snippets import *"
   ]
  },
  {
   "cell_type": "code",
   "execution_count": 3,
   "id": "d679a7da",
   "metadata": {},
   "outputs": [],
   "source": [
    "device = 'cuda' if torch.cuda.is_available() else 'cpu'\n",
    "from torchvision.utils import make_grid\n",
    "from torchvision import datasets\n",
    "from torchvision import transforms"
   ]
  },
  {
   "cell_type": "markdown",
   "id": "a3b7bc97",
   "metadata": {},
   "source": [
    "Import the MNIST data and define the dataloader with built-in data\n",
    "transformation so that the input data is scaled to a mean of 0.5 and a\n",
    "standard deviation of 0.5:"
   ]
  },
  {
   "cell_type": "code",
   "execution_count": 4,
   "id": "b214da26",
   "metadata": {},
   "outputs": [
    {
     "name": "stdout",
     "output_type": "stream",
     "text": [
      "Looking in indexes: https://pypi.org/simple, https://pypi.ngc.nvidia.com\n",
      "Requirement already satisfied: ipywidgets in /opt/conda/lib/python3.8/site-packages (7.6.5)\n",
      "Requirement already satisfied: nbformat>=4.2.0 in /opt/conda/lib/python3.8/site-packages (from ipywidgets) (5.1.3)\n",
      "Requirement already satisfied: jupyterlab-widgets>=1.0.0 in /opt/conda/lib/python3.8/site-packages (from ipywidgets) (1.0.2)\n",
      "Requirement already satisfied: widgetsnbextension~=3.5.0 in /opt/conda/lib/python3.8/site-packages (from ipywidgets) (3.5.2)\n",
      "Requirement already satisfied: ipykernel>=4.5.1 in /opt/conda/lib/python3.8/site-packages (from ipywidgets) (6.4.1)\n",
      "Requirement already satisfied: traitlets>=4.3.1 in /opt/conda/lib/python3.8/site-packages (from ipywidgets) (5.1.0)\n",
      "Requirement already satisfied: ipython>=4.0.0 in /opt/conda/lib/python3.8/site-packages (from ipywidgets) (7.28.0)\n",
      "Requirement already satisfied: ipython-genutils~=0.2.0 in /opt/conda/lib/python3.8/site-packages (from ipywidgets) (0.2.0)\n",
      "Requirement already satisfied: jupyter-client<8.0 in /opt/conda/lib/python3.8/site-packages (from ipykernel>=4.5.1->ipywidgets) (7.0.6)\n",
      "Requirement already satisfied: debugpy<2.0,>=1.0.0 in /opt/conda/lib/python3.8/site-packages (from ipykernel>=4.5.1->ipywidgets) (1.5.0)\n",
      "Requirement already satisfied: tornado<7.0,>=4.2 in /opt/conda/lib/python3.8/site-packages (from ipykernel>=4.5.1->ipywidgets) (6.1)\n",
      "Requirement already satisfied: matplotlib-inline<0.2.0,>=0.1.0 in /opt/conda/lib/python3.8/site-packages (from ipykernel>=4.5.1->ipywidgets) (0.1.3)\n",
      "Requirement already satisfied: setuptools>=18.5 in /opt/conda/lib/python3.8/site-packages (from ipython>=4.0.0->ipywidgets) (58.2.0)\n",
      "Requirement already satisfied: pickleshare in /opt/conda/lib/python3.8/site-packages (from ipython>=4.0.0->ipywidgets) (0.7.5)\n",
      "Requirement already satisfied: prompt-toolkit!=3.0.0,!=3.0.1,<3.1.0,>=2.0.0 in /opt/conda/lib/python3.8/site-packages (from ipython>=4.0.0->ipywidgets) (3.0.20)\n",
      "Requirement already satisfied: decorator in /opt/conda/lib/python3.8/site-packages (from ipython>=4.0.0->ipywidgets) (5.1.0)\n",
      "Requirement already satisfied: pexpect>4.3 in /opt/conda/lib/python3.8/site-packages (from ipython>=4.0.0->ipywidgets) (4.8.0)\n",
      "Requirement already satisfied: backcall in /opt/conda/lib/python3.8/site-packages (from ipython>=4.0.0->ipywidgets) (0.2.0)\n",
      "Requirement already satisfied: jedi>=0.16 in /opt/conda/lib/python3.8/site-packages (from ipython>=4.0.0->ipywidgets) (0.18.0)\n",
      "Requirement already satisfied: pygments in /opt/conda/lib/python3.8/site-packages (from ipython>=4.0.0->ipywidgets) (2.10.0)\n",
      "Requirement already satisfied: parso<0.9.0,>=0.8.0 in /opt/conda/lib/python3.8/site-packages (from jedi>=0.16->ipython>=4.0.0->ipywidgets) (0.8.2)\n",
      "Requirement already satisfied: jupyter-core>=4.6.0 in /opt/conda/lib/python3.8/site-packages (from jupyter-client<8.0->ipykernel>=4.5.1->ipywidgets) (4.8.1)\n",
      "Requirement already satisfied: pyzmq>=13 in /opt/conda/lib/python3.8/site-packages (from jupyter-client<8.0->ipykernel>=4.5.1->ipywidgets) (22.3.0)\n",
      "Requirement already satisfied: entrypoints in /opt/conda/lib/python3.8/site-packages (from jupyter-client<8.0->ipykernel>=4.5.1->ipywidgets) (0.3)\n",
      "Requirement already satisfied: python-dateutil>=2.1 in /opt/conda/lib/python3.8/site-packages (from jupyter-client<8.0->ipykernel>=4.5.1->ipywidgets) (2.8.2)\n",
      "Requirement already satisfied: nest-asyncio>=1.5 in /opt/conda/lib/python3.8/site-packages (from jupyter-client<8.0->ipykernel>=4.5.1->ipywidgets) (1.5.1)\n",
      "Requirement already satisfied: jsonschema!=2.5.0,>=2.4 in /opt/conda/lib/python3.8/site-packages (from nbformat>=4.2.0->ipywidgets) (4.0.1)\n",
      "Requirement already satisfied: pyrsistent!=0.17.0,!=0.17.1,!=0.17.2,>=0.14.0 in /opt/conda/lib/python3.8/site-packages (from jsonschema!=2.5.0,>=2.4->nbformat>=4.2.0->ipywidgets) (0.18.0)\n",
      "Requirement already satisfied: attrs>=17.4.0 in /opt/conda/lib/python3.8/site-packages (from jsonschema!=2.5.0,>=2.4->nbformat>=4.2.0->ipywidgets) (21.2.0)\n",
      "Requirement already satisfied: ptyprocess>=0.5 in /opt/conda/lib/python3.8/site-packages (from pexpect>4.3->ipython>=4.0.0->ipywidgets) (0.7.0)\n",
      "Requirement already satisfied: wcwidth in /opt/conda/lib/python3.8/site-packages (from prompt-toolkit!=3.0.0,!=3.0.1,<3.1.0,>=2.0.0->ipython>=4.0.0->ipywidgets) (0.2.5)\n",
      "Requirement already satisfied: six>=1.5 in /opt/conda/lib/python3.8/site-packages (from python-dateutil>=2.1->jupyter-client<8.0->ipykernel>=4.5.1->ipywidgets) (1.16.0)\n",
      "Requirement already satisfied: notebook>=4.4.1 in /opt/conda/lib/python3.8/site-packages (from widgetsnbextension~=3.5.0->ipywidgets) (6.4.1)\n",
      "Requirement already satisfied: jinja2 in /opt/conda/lib/python3.8/site-packages (from notebook>=4.4.1->widgetsnbextension~=3.5.0->ipywidgets) (3.0.1)\n",
      "Requirement already satisfied: argon2-cffi in /opt/conda/lib/python3.8/site-packages (from notebook>=4.4.1->widgetsnbextension~=3.5.0->ipywidgets) (21.1.0)\n",
      "Requirement already satisfied: nbconvert in /opt/conda/lib/python3.8/site-packages (from notebook>=4.4.1->widgetsnbextension~=3.5.0->ipywidgets) (6.2.0)\n",
      "Requirement already satisfied: prometheus-client in /opt/conda/lib/python3.8/site-packages (from notebook>=4.4.1->widgetsnbextension~=3.5.0->ipywidgets) (0.11.0)\n",
      "Requirement already satisfied: terminado>=0.8.3 in /opt/conda/lib/python3.8/site-packages (from notebook>=4.4.1->widgetsnbextension~=3.5.0->ipywidgets) (0.12.1)\n",
      "Requirement already satisfied: Send2Trash>=1.5.0 in /opt/conda/lib/python3.8/site-packages (from notebook>=4.4.1->widgetsnbextension~=3.5.0->ipywidgets) (1.8.0)\n",
      "Requirement already satisfied: cffi>=1.0.0 in /opt/conda/lib/python3.8/site-packages (from argon2-cffi->notebook>=4.4.1->widgetsnbextension~=3.5.0->ipywidgets) (1.14.6)\n",
      "Requirement already satisfied: pycparser in /opt/conda/lib/python3.8/site-packages (from cffi>=1.0.0->argon2-cffi->notebook>=4.4.1->widgetsnbextension~=3.5.0->ipywidgets) (2.20)\n",
      "Requirement already satisfied: MarkupSafe>=2.0 in /opt/conda/lib/python3.8/site-packages (from jinja2->notebook>=4.4.1->widgetsnbextension~=3.5.0->ipywidgets) (2.0.1)\n",
      "Requirement already satisfied: bleach in /opt/conda/lib/python3.8/site-packages (from nbconvert->notebook>=4.4.1->widgetsnbextension~=3.5.0->ipywidgets) (4.1.0)\n",
      "Requirement already satisfied: testpath in /opt/conda/lib/python3.8/site-packages (from nbconvert->notebook>=4.4.1->widgetsnbextension~=3.5.0->ipywidgets) (0.5.0)\n",
      "Requirement already satisfied: mistune<2,>=0.8.1 in /opt/conda/lib/python3.8/site-packages (from nbconvert->notebook>=4.4.1->widgetsnbextension~=3.5.0->ipywidgets) (0.8.4)\n",
      "Requirement already satisfied: nbclient<0.6.0,>=0.5.0 in /opt/conda/lib/python3.8/site-packages (from nbconvert->notebook>=4.4.1->widgetsnbextension~=3.5.0->ipywidgets) (0.5.4)\n",
      "Requirement already satisfied: jupyterlab-pygments in /opt/conda/lib/python3.8/site-packages (from nbconvert->notebook>=4.4.1->widgetsnbextension~=3.5.0->ipywidgets) (0.1.2)\n",
      "Requirement already satisfied: defusedxml in /opt/conda/lib/python3.8/site-packages (from nbconvert->notebook>=4.4.1->widgetsnbextension~=3.5.0->ipywidgets) (0.7.1)\n",
      "Requirement already satisfied: pandocfilters>=1.4.1 in /opt/conda/lib/python3.8/site-packages (from nbconvert->notebook>=4.4.1->widgetsnbextension~=3.5.0->ipywidgets) (1.5.0)\n",
      "Requirement already satisfied: packaging in /opt/conda/lib/python3.8/site-packages (from bleach->nbconvert->notebook>=4.4.1->widgetsnbextension~=3.5.0->ipywidgets) (21.0)\n",
      "Requirement already satisfied: webencodings in /opt/conda/lib/python3.8/site-packages (from bleach->nbconvert->notebook>=4.4.1->widgetsnbextension~=3.5.0->ipywidgets) (0.5.1)\n",
      "Requirement already satisfied: pyparsing>=2.0.2 in /opt/conda/lib/python3.8/site-packages (from packaging->bleach->nbconvert->notebook>=4.4.1->widgetsnbextension~=3.5.0->ipywidgets) (2.4.7)\n",
      "\u001b[33mWARNING: Running pip as the 'root' user can result in broken permissions and conflicting behaviour with the system package manager. It is recommended to use a virtual environment instead: https://pip.pypa.io/warnings/venv\u001b[0m\n"
     ]
    }
   ],
   "source": [
    "! pip install ipywidgets"
   ]
  },
  {
   "cell_type": "code",
   "execution_count": 5,
   "id": "c07a5949",
   "metadata": {},
   "outputs": [
    {
     "name": "stdout",
     "output_type": "stream",
     "text": [
      "Downloading http://yann.lecun.com/exdb/mnist/train-images-idx3-ubyte.gz\n",
      "Downloading http://yann.lecun.com/exdb/mnist/train-images-idx3-ubyte.gz to /content/MNIST/raw/train-images-idx3-ubyte.gz\n"
     ]
    },
    {
     "data": {
      "application/vnd.jupyter.widget-view+json": {
       "model_id": "18e86cabbf3c4dbe9baac0d4de338f11",
       "version_major": 2,
       "version_minor": 0
      },
      "text/plain": [
       "  0%|          | 0/9912422 [00:00<?, ?it/s]"
      ]
     },
     "metadata": {},
     "output_type": "display_data"
    },
    {
     "name": "stdout",
     "output_type": "stream",
     "text": [
      "Extracting /content/MNIST/raw/train-images-idx3-ubyte.gz to /content/MNIST/raw\n",
      "\n",
      "Downloading http://yann.lecun.com/exdb/mnist/train-labels-idx1-ubyte.gz\n",
      "Downloading http://yann.lecun.com/exdb/mnist/train-labels-idx1-ubyte.gz to /content/MNIST/raw/train-labels-idx1-ubyte.gz\n"
     ]
    },
    {
     "data": {
      "application/vnd.jupyter.widget-view+json": {
       "model_id": "5dbc11bc31c54b81bab6815435adb48f",
       "version_major": 2,
       "version_minor": 0
      },
      "text/plain": [
       "  0%|          | 0/28881 [00:00<?, ?it/s]"
      ]
     },
     "metadata": {},
     "output_type": "display_data"
    },
    {
     "name": "stdout",
     "output_type": "stream",
     "text": [
      "Extracting /content/MNIST/raw/train-labels-idx1-ubyte.gz to /content/MNIST/raw\n",
      "\n",
      "Downloading http://yann.lecun.com/exdb/mnist/t10k-images-idx3-ubyte.gz\n",
      "Downloading http://yann.lecun.com/exdb/mnist/t10k-images-idx3-ubyte.gz to /content/MNIST/raw/t10k-images-idx3-ubyte.gz\n"
     ]
    },
    {
     "data": {
      "application/vnd.jupyter.widget-view+json": {
       "model_id": "97c5c68e62534ab18fd933f3808764f6",
       "version_major": 2,
       "version_minor": 0
      },
      "text/plain": [
       "  0%|          | 0/1648877 [00:00<?, ?it/s]"
      ]
     },
     "metadata": {},
     "output_type": "display_data"
    },
    {
     "name": "stdout",
     "output_type": "stream",
     "text": [
      "Extracting /content/MNIST/raw/t10k-images-idx3-ubyte.gz to /content/MNIST/raw\n",
      "\n",
      "Downloading http://yann.lecun.com/exdb/mnist/t10k-labels-idx1-ubyte.gz\n",
      "Downloading http://yann.lecun.com/exdb/mnist/t10k-labels-idx1-ubyte.gz to /content/MNIST/raw/t10k-labels-idx1-ubyte.gz\n"
     ]
    },
    {
     "data": {
      "application/vnd.jupyter.widget-view+json": {
       "model_id": "c39adf43e7be4023a50d94c79e9c12f7",
       "version_major": 2,
       "version_minor": 0
      },
      "text/plain": [
       "  0%|          | 0/4542 [00:00<?, ?it/s]"
      ]
     },
     "metadata": {},
     "output_type": "display_data"
    },
    {
     "name": "stdout",
     "output_type": "stream",
     "text": [
      "Extracting /content/MNIST/raw/t10k-labels-idx1-ubyte.gz to /content/MNIST/raw\n",
      "\n"
     ]
    }
   ],
   "source": [
    "transform = transforms.Compose([transforms.ToTensor(),\n",
    "                                transforms.Normalize(mean=(0.5,), std=(0.5,))])\n",
    "\n",
    "train_loader = datasets.MNIST(root='/content', train=True, download=True, transform=transform)\n",
    "data_loader = torch.utils.data.DataLoader(train_loader, batch_size=32, shuffle=True, drop_last=True)"
   ]
  },
  {
   "cell_type": "markdown",
   "id": "90f34bfc",
   "metadata": {},
   "source": [
    "# *Define the Discriminator model class:*"
   ]
  },
  {
   "cell_type": "code",
   "execution_count": 6,
   "id": "8fab8a6e",
   "metadata": {},
   "outputs": [],
   "source": [
    "# TODO: Define the Discriminator model class\n",
    "class Discriminator(nn.Module):\n",
    "    def __init__(self):\n",
    "        super(Discriminator, self).__init__()\n",
    "        self.model = nn.Sequential(nn.Linear(784, 1024),\n",
    "                                   nn.LeakyReLU(0.2),\n",
    "                                   nn.Dropout(0.3),\n",
    "                                   nn.Linear(1024, 512),\n",
    "                                   nn.LeakyReLU(0.2),\n",
    "                                   nn.Dropout(0.3),\n",
    "                                   nn.Linear(512, 256),\n",
    "                                   nn.LeakyReLU(0.2),\n",
    "                                   nn.Dropout(0.2),\n",
    "                                   nn.Linear(256, 1),\n",
    "                                   nn.Sigmoid())\n",
    "\n",
    "    def forward(self, x):\n",
    "        return self.model(x)"
   ]
  },
  {
   "cell_type": "markdown",
   "id": "2717292f",
   "metadata": {},
   "source": [
    ">  **`Leaky Rectified Linear Unit`**, or Leaky ReLU, is a type of activation function based on a ReLU, but it has a small slope\n",
    " for negative values instead of a flat slope. ... This type of activation function is popular in tasks where we we may\n",
    " suffer from sparse gradients, for example training generative adversarial networks."
   ]
  },
  {
   "cell_type": "code",
   "execution_count": 7,
   "id": "1f7ef95a",
   "metadata": {},
   "outputs": [
    {
     "name": "stdout",
     "output_type": "stream",
     "text": [
      "Looking in indexes: https://pypi.org/simple, https://pypi.ngc.nvidia.com\n",
      "Collecting torch_summary\n",
      "  Downloading torch_summary-1.4.5-py3-none-any.whl (16 kB)\n",
      "Installing collected packages: torch-summary\n",
      "Successfully installed torch-summary-1.4.5\n",
      "\u001b[33mWARNING: Running pip as the 'root' user can result in broken permissions and conflicting behaviour with the system package manager. It is recommended to use a virtual environment instead: https://pip.pypa.io/warnings/venv\u001b[0m\n"
     ]
    }
   ],
   "source": [
    "! pip install torch_summary\n",
    "from torchsummary import summary"
   ]
  },
  {
   "cell_type": "code",
   "execution_count": 13,
   "id": "73071c3f",
   "metadata": {},
   "outputs": [
    {
     "name": "stdout",
     "output_type": "stream",
     "text": [
      "==========================================================================================\n",
      "Layer (type:depth-idx)                   Output Shape              Param #\n",
      "==========================================================================================\n",
      "├─Sequential: 1-1                        [-1, 1]                   --\n",
      "|    └─Linear: 2-1                       [-1, 1024]                803,840\n",
      "|    └─LeakyReLU: 2-2                    [-1, 1024]                --\n",
      "|    └─Dropout: 2-3                      [-1, 1024]                --\n",
      "|    └─Linear: 2-4                       [-1, 512]                 524,800\n",
      "|    └─LeakyReLU: 2-5                    [-1, 512]                 --\n",
      "|    └─Dropout: 2-6                      [-1, 512]                 --\n",
      "|    └─Linear: 2-7                       [-1, 256]                 131,328\n",
      "|    └─LeakyReLU: 2-8                    [-1, 256]                 --\n",
      "|    └─Dropout: 2-9                      [-1, 256]                 --\n",
      "|    └─Linear: 2-10                      [-1, 1]                   257\n",
      "|    └─Sigmoid: 2-11                     [-1, 1]                   --\n",
      "==========================================================================================\n",
      "Total params: 1,460,225\n",
      "Trainable params: 1,460,225\n",
      "Non-trainable params: 0\n",
      "Total mult-adds (M): 2.92\n",
      "==========================================================================================\n",
      "Input size (MB): 0.00\n",
      "Forward/backward pass size (MB): 0.01\n",
      "Params size (MB): 5.57\n",
      "Estimated Total Size (MB): 5.59\n",
      "==========================================================================================\n"
     ]
    }
   ],
   "source": [
    "discriminator = Discriminator().to(device)\n",
    "summary(discriminator, torch.zeros(1, 784));  # This is a summary of discriminator"
   ]
  },
  {
   "cell_type": "markdown",
   "id": "20ff4662",
   "metadata": {},
   "source": [
    "# *Define the Generator model class:*"
   ]
  },
  {
   "cell_type": "code",
   "execution_count": 14,
   "id": "5b4a2f8c",
   "metadata": {},
   "outputs": [],
   "source": [
    "# TODO: Define the generator model class\n",
    "class Generator(nn.Module):\n",
    "    def __init__(self):\n",
    "        super(Generator, self).__init__()\n",
    "        self.model = nn.Sequential(nn.Linear(100, 256),\n",
    "                                   nn.LeakyReLU(0.2),\n",
    "                                   nn.Linear(256, 512),\n",
    "                                   nn.LeakyReLU(0.2),\n",
    "                                   nn.Linear(512, 1024),\n",
    "                                   nn.LeakyReLU(0.2),\n",
    "                                   nn.Linear(1024, 784),\n",
    "                                   nn.Tanh())\n",
    "\n",
    "    def forward(self, x):\n",
    "        return self.model(x)\n",
    "\n"
   ]
  },
  {
   "cell_type": "markdown",
   "id": "31909e61",
   "metadata": {},
   "source": [
    "> Note that the generator takes a 100-dimensional input (which is of random\n",
    "noise) and generates an image from the input. A summary of the generator\n",
    "model is as follows:"
   ]
  },
  {
   "cell_type": "code",
   "execution_count": 15,
   "id": "8eeac00f",
   "metadata": {},
   "outputs": [
    {
     "name": "stdout",
     "output_type": "stream",
     "text": [
      "==========================================================================================\n",
      "Layer (type:depth-idx)                   Output Shape              Param #\n",
      "==========================================================================================\n",
      "├─Sequential: 1-1                        [-1, 784]                 --\n",
      "|    └─Linear: 2-1                       [-1, 256]                 25,856\n",
      "|    └─LeakyReLU: 2-2                    [-1, 256]                 --\n",
      "|    └─Linear: 2-3                       [-1, 512]                 131,584\n",
      "|    └─LeakyReLU: 2-4                    [-1, 512]                 --\n",
      "|    └─Linear: 2-5                       [-1, 1024]                525,312\n",
      "|    └─LeakyReLU: 2-6                    [-1, 1024]                --\n",
      "|    └─Linear: 2-7                       [-1, 784]                 803,600\n",
      "|    └─Tanh: 2-8                         [-1, 784]                 --\n",
      "==========================================================================================\n",
      "Total params: 1,486,352\n",
      "Trainable params: 1,486,352\n",
      "Non-trainable params: 0\n",
      "Total mult-adds (M): 2.97\n",
      "==========================================================================================\n",
      "Input size (MB): 0.00\n",
      "Forward/backward pass size (MB): 0.02\n",
      "Params size (MB): 5.67\n",
      "Estimated Total Size (MB): 5.69\n",
      "==========================================================================================\n"
     ]
    }
   ],
   "source": [
    "generator = Generator().to(device)\n",
    "summary(generator, torch.zeros(1, 100));"
   ]
  },
  {
   "cell_type": "markdown",
   "id": "15e71a11",
   "metadata": {},
   "source": [
    "Define a function to generate random noise and register it to the device:"
   ]
  },
  {
   "cell_type": "code",
   "execution_count": 16,
   "id": "4b22f9d2",
   "metadata": {},
   "outputs": [],
   "source": [
    "def noise(size):\n",
    "    n = torch.randn(size, 100)\n",
    "    return n.to(device)\n"
   ]
  },
  {
   "cell_type": "markdown",
   "id": "8808b140",
   "metadata": {},
   "source": [
    "## *`Define a function to train the discriminator`*"
   ]
  },
  {
   "cell_type": "markdown",
   "id": "a1fb93ea",
   "metadata": {},
   "source": [
    "The discriminator training function (discriminator_train_step)\n",
    "takes real data (real_data) and fake data (fake_data) as input:"
   ]
  },
  {
   "cell_type": "code",
   "execution_count": 17,
   "id": "d2deb73a",
   "metadata": {},
   "outputs": [],
   "source": [
    "# TODO: Define a function to train the discriminator\n",
    "def discriminator_train_step(real_data, fake_data):\n",
    "    # Reset the gradient\n",
    "    d_optimizer.zero_grad()\n",
    "\n",
    "    # Predict on the real data\n",
    "    prediction_real_data = discriminator(real_data)\n",
    "\n",
    "    # Calculate the loss\n",
    "    real_loss = loss(prediction_real_data, torch.ones(len(real_data), 1).to(device))\n",
    "    real_loss.backward()\n",
    "\n",
    "    # Predict on the fake data\n",
    "    prediction_fake_data = discriminator(fake_data)\n",
    "\n",
    "    # Calculate the loss\n",
    "    fake_loss = loss(prediction_fake_data, torch.zeros(len(fake_data), 1).to(device))\n",
    "    fake_loss.backward()\n",
    "\n",
    "    # Update weights\n",
    "    d_optimizer.step()\n",
    "\n",
    "    return real_loss + fake_loss"
   ]
  },
  {
   "cell_type": "markdown",
   "id": "1ea53cc4",
   "metadata": {},
   "source": [
    "> When we calculate the discriminator loss on real data, we expect the\n",
    "discriminator to predict an output of 1. Hence, the discriminator loss\n",
    "on real data is calculated by expecting the discriminator to predict\n",
    "output as 1 using **`torch.ones`** during discriminator training.\n",
    "\n",
    "> When we calculate the discriminator loss on fake data, we expect the\n",
    "discriminator to predict an output of 0. Hence, the discriminator loss\n",
    "on fake data is calculated by expecting the discriminator to predict\n",
    "output as 0 using **`torch.zeros`** during discriminator training."
   ]
  },
  {
   "cell_type": "markdown",
   "id": "485a9aa4",
   "metadata": {},
   "source": [
    "## *`Train the generator model`*"
   ]
  },
  {
   "cell_type": "code",
   "execution_count": 18,
   "id": "a0418d11",
   "metadata": {},
   "outputs": [],
   "source": [
    "# TODO: Train the generator model\n",
    "def generator_train_step(fake_data):\n",
    "    g_optimizer.zero_grad()\n",
    "    prediction = discriminator(fake_data)\n",
    "    error = loss(prediction, torch.ones(len(fake_data), 1).to(device))\n",
    "    error.backward()\n",
    "    g_optimizer.step()\n",
    "\n",
    "    return error"
   ]
  },
  {
   "cell_type": "markdown",
   "id": "4d75d7ce",
   "metadata": {},
   "source": [
    "**TODO: Define the model objects, the optimizer for each generator and discriminator, and the loss function to optimize**"
   ]
  },
  {
   "cell_type": "code",
   "execution_count": 20,
   "id": "3f95cca4",
   "metadata": {},
   "outputs": [],
   "source": [
    "# TODO: Define the model objects, the optimizer for each generator and discriminator, and the loss function to optimize\n",
    "discriminator = Discriminator().to(device)\n",
    "generator = Generator().to(device)\n",
    "d_optimizer = optim.Adam(discriminator.parameters(), lr=0.0002)\n",
    "g_optimizer = optim.Adam(generator.parameters(), lr=0.0002)\n",
    "loss = nn.BCELoss()\n",
    "num_epochs = 200\n",
    "log = Report(num_epochs)"
   ]
  },
  {
   "cell_type": "markdown",
   "id": "5fae95af",
   "metadata": {},
   "source": [
    "## **`Run the models over increasing epochs:`**"
   ]
  },
  {
   "cell_type": "code",
   "execution_count": 22,
   "id": "b4dce1bd",
   "metadata": {},
   "outputs": [
    {
     "name": "stdout",
     "output_type": "stream",
     "text": [
      "EPOCH: 1.000\td_loss: 1.097\tg_loss: 1.909\t(267.36s - 53204.73s remaining))))\n",
      "EPOCH: 2.000\td_loss: 0.958\tg_loss: 1.575\t(318.13s - 31495.06s remaining)\n",
      "EPOCH: 3.000\td_loss: 0.747\tg_loss: 1.789\t(363.87s - 23894.34s remaining)\n",
      "EPOCH: 4.000\td_loss: 0.825\tg_loss: 1.755\t(408.83s - 20032.79s remaining)\n",
      "EPOCH: 5.000\td_loss: 0.878\tg_loss: 1.584\t(453.06s - 17669.46s remaining)\n",
      "EPOCH: 6.000\td_loss: 0.954\tg_loss: 1.459\t(498.69s - 16124.18s remaining)\n",
      "EPOCH: 7.000\td_loss: 0.992\tg_loss: 1.368\t(541.63s - 14933.60s remaining)\n",
      "EPOCH: 8.000\td_loss: 1.057\tg_loss: 1.271\t(585.31s - 14047.44s remaining)\n",
      "EPOCH: 9.000\td_loss: 1.060\tg_loss: 1.249\t(621.44s - 13188.37s remaining)\n",
      "EPOCH: 10.000\td_loss: 1.068\tg_loss: 1.241\t(663.18s - 12600.35s remaining)\n",
      "EPOCH: 11.000\td_loss: 1.072\tg_loss: 1.233\t(706.77s - 12143.67s remaining)\n",
      "EPOCH: 12.000\td_loss: 1.098\tg_loss: 1.190\t(751.79s - 11778.06s remaining)\n",
      "EPOCH: 13.000\td_loss: 1.106\tg_loss: 1.182\t(799.01s - 11493.41s remaining)\n",
      "EPOCH: 14.000\td_loss: 1.135\tg_loss: 1.122\t(847.48s - 11259.44s remaining)\n",
      "EPOCH: 15.000\td_loss: 1.155\tg_loss: 1.082\t(892.47s - 11007.10s remaining)\n",
      "EPOCH: 16.000\td_loss: 1.179\tg_loss: 1.053\t(938.36s - 10791.14s remaining)\n",
      "EPOCH: 17.000\td_loss: 1.194\tg_loss: 1.020\t(983.51s - 10587.17s remaining)\n",
      "EPOCH: 18.000\td_loss: 1.196\tg_loss: 1.018\t(1033.32s - 10447.99s remaining)\n",
      "EPOCH: 19.000\td_loss: 1.207\tg_loss: 0.996\t(1080.75s - 10295.57s remaining)\n",
      "EPOCH: 20.000\td_loss: 1.227\tg_loss: 0.967\t(1129.00s - 10161.04s remaining)\n",
      "EPOCH: 21.000\td_loss: 1.226\tg_loss: 0.972\t(1175.87s - 10022.93s remaining)\n",
      "EPOCH: 22.000\td_loss: 1.238\tg_loss: 0.949\t(1223.18s - 9896.64s remaining))\n",
      "EPOCH: 23.000\td_loss: 1.242\tg_loss: 0.944\t(1268.94s - 9765.32s remaining)\n",
      "EPOCH: 24.000\td_loss: 1.245\tg_loss: 0.931\t(1313.32s - 9631.04s remaining)\n",
      "EPOCH: 25.000\td_loss: 1.250\tg_loss: 0.926\t(1360.01s - 9520.04s remaining)\n",
      "EPOCH: 26.000\td_loss: 1.247\tg_loss: 0.932\t(1406.83s - 9414.96s remaining)\n",
      "EPOCH: 27.000\td_loss: 1.261\tg_loss: 0.906\t(1457.28s - 9337.36s remaining)\n",
      "EPOCH: 28.000\td_loss: 1.262\tg_loss: 0.909\t(1503.52s - 9235.92s remaining)\n",
      "EPOCH: 29.000\td_loss: 1.265\tg_loss: 0.898\t(1551.41s - 9147.97s remaining)\n",
      "EPOCH: 30.000\td_loss: 1.264\tg_loss: 0.904\t(1601.94s - 9077.64s remaining)\n",
      "EPOCH: 31.000\td_loss: 1.264\tg_loss: 0.902\t(1648.46s - 8986.74s remaining)\n",
      "EPOCH: 32.000\td_loss: 1.268\tg_loss: 0.898\t(1699.16s - 8920.59s remaining)\n",
      "EPOCH: 33.000\td_loss: 1.269\tg_loss: 0.893\t(1746.76s - 8839.69s remaining)\n",
      "EPOCH: 34.000\td_loss: 1.271\tg_loss: 0.895\t(1787.73s - 8728.32s remaining)\n",
      "EPOCH: 35.000\td_loss: 1.277\tg_loss: 0.884\t(1833.52s - 8643.75s remaining)\n",
      "EPOCH: 36.000\td_loss: 1.277\tg_loss: 0.883\t(1880.34s - 8566.00s remaining)\n",
      "EPOCH: 37.000\td_loss: 1.274\tg_loss: 0.885\t(1933.56s - 8518.11s remaining)\n",
      "EPOCH: 38.000\td_loss: 1.282\tg_loss: 0.872\t(1983.75s - 8457.03s remaining)\n",
      "EPOCH: 39.000\td_loss: 1.284\tg_loss: 0.876\t(2035.14s - 8401.47s remaining)\n",
      "EPOCH: 40.000\td_loss: 1.278\tg_loss: 0.883\t(2086.26s - 8345.03s remaining)\n",
      "EPOCH: 41.000\td_loss: 1.280\tg_loss: 0.876\t(2139.12s - 8295.63s remaining)\n",
      "EPOCH: 42.000\td_loss: 1.287\tg_loss: 0.866\t(2188.51s - 8232.98s remaining)\n",
      "EPOCH: 43.000\td_loss: 1.290\tg_loss: 0.868\t(2235.61s - 8162.58s remaining)\n",
      "EPOCH: 44.000\td_loss: 1.280\tg_loss: 0.876\t(2285.11s - 8101.76s remaining)\n",
      "EPOCH: 45.000\td_loss: 1.293\tg_loss: 0.864\t(2331.44s - 8030.50s remaining)\n",
      "EPOCH: 46.000\td_loss: 1.288\tg_loss: 0.866\t(2376.24s - 7955.25s remaining)\n",
      "EPOCH: 47.000\td_loss: 1.288\tg_loss: 0.867\t(2419.18s - 7875.22s remaining)\n",
      "EPOCH: 48.000\td_loss: 1.286\tg_loss: 0.871\t(2463.55s - 7801.25s remaining)\n",
      "EPOCH: 49.000\td_loss: 1.292\tg_loss: 0.863\t(2503.18s - 7713.89s remaining)\n",
      "EPOCH: 50.000\td_loss: 1.291\tg_loss: 0.867\t(2544.44s - 7633.32s remaining)\n",
      "EPOCH: 51.000\td_loss: 1.292\tg_loss: 0.863\t(2587.96s - 7560.89s remaining)\n",
      "EPOCH: 52.000\td_loss: 1.290\tg_loss: 0.863\t(2633.35s - 7494.91s remaining)\n",
      "EPOCH: 53.000\td_loss: 1.290\tg_loss: 0.864\t(2677.17s - 7425.36s remaining)\n",
      "EPOCH: 54.000\td_loss: 1.289\tg_loss: 0.860\t(2720.62s - 7355.75s remaining)\n",
      "EPOCH: 55.000\td_loss: 1.290\tg_loss: 0.863\t(2763.78s - 7286.32s remaining)\n",
      "EPOCH: 56.000\td_loss: 1.292\tg_loss: 0.863\t(2807.35s - 7218.91s remaining)\n",
      "EPOCH: 57.000\td_loss: 1.288\tg_loss: 0.867\t(2853.31s - 7158.29s remaining)\n",
      "EPOCH: 58.000\td_loss: 1.290\tg_loss: 0.864\t(2895.76s - 7089.62s remaining)\n",
      "EPOCH: 59.000\td_loss: 1.297\tg_loss: 0.853\t(2935.54s - 7015.44s remaining)\n",
      "EPOCH: 60.000\td_loss: 1.295\tg_loss: 0.858\t(2981.95s - 6957.88s remaining)\n",
      "EPOCH: 61.000\td_loss: 1.294\tg_loss: 0.858\t(3026.01s - 6895.33s remaining)\n",
      "EPOCH: 62.000\td_loss: 1.293\tg_loss: 0.859\t(3071.70s - 6837.00s remaining)\n",
      "EPOCH: 63.000\td_loss: 1.293\tg_loss: 0.859\t(3121.30s - 6787.58s remaining)\n",
      "EPOCH: 64.000\td_loss: 1.297\tg_loss: 0.856\t(3164.07s - 6723.64s remaining)\n",
      "EPOCH: 65.000\td_loss: 1.293\tg_loss: 0.859\t(3192.38s - 6630.32s remaining)\n",
      "EPOCH: 66.000\td_loss: 1.294\tg_loss: 0.859\t(3221.00s - 6539.62s remaining)\n",
      "EPOCH: 67.000\td_loss: 1.297\tg_loss: 0.851\t(3250.26s - 6452.01s remaining)\n",
      "EPOCH: 68.000\td_loss: 1.293\tg_loss: 0.858\t(3278.05s - 6363.28s remaining)\n",
      "EPOCH: 69.000\td_loss: 1.292\tg_loss: 0.861\t(3306.63s - 6277.80s remaining)\n",
      "EPOCH: 70.000\td_loss: 1.292\tg_loss: 0.859\t(3335.77s - 6195.00s remaining)\n",
      "EPOCH: 71.000\td_loss: 1.290\tg_loss: 0.869\t(3365.56s - 6114.90s remaining)\n",
      "EPOCH: 72.000\td_loss: 1.292\tg_loss: 0.861\t(3395.21s - 6035.94s remaining)\n",
      "EPOCH: 73.000\td_loss: 1.293\tg_loss: 0.860\t(3424.79s - 5958.20s remaining)\n",
      "EPOCH: 74.000\td_loss: 1.292\tg_loss: 0.861\t(3454.11s - 5881.33s remaining)\n",
      "EPOCH: 75.000\td_loss: 1.294\tg_loss: 0.860\t(3480.54s - 5800.90s remaining)\n",
      "EPOCH: 76.000\td_loss: 1.296\tg_loss: 0.855\t(3508.40s - 5724.23s remaining)\n",
      "EPOCH: 77.000\td_loss: 1.293\tg_loss: 0.857\t(3535.86s - 5648.20s remaining)\n",
      "EPOCH: 78.000\td_loss: 1.294\tg_loss: 0.861\t(3563.87s - 5574.25s remaining)\n",
      "EPOCH: 79.000\td_loss: 1.292\tg_loss: 0.864\t(3592.66s - 5502.68s remaining)\n",
      "EPOCH: 80.000\td_loss: 1.296\tg_loss: 0.855\t(3620.92s - 5431.39s remaining)\n",
      "EPOCH: 81.000\td_loss: 1.299\tg_loss: 0.854\t(3651.15s - 5364.03s remaining)\n",
      "EPOCH: 82.000\td_loss: 1.292\tg_loss: 0.870\t(3681.25s - 5297.41s remaining)\n",
      "EPOCH: 83.000\td_loss: 1.296\tg_loss: 0.858\t(3712.14s - 5232.78s remaining)\n",
      "EPOCH: 84.000\td_loss: 1.292\tg_loss: 0.868\t(3742.46s - 5168.16s remaining)\n",
      "EPOCH: 85.000\td_loss: 1.294\tg_loss: 0.856\t(3772.45s - 5103.91s remaining)\n",
      "EPOCH: 86.000\td_loss: 1.290\tg_loss: 0.868\t(3802.98s - 5041.16s remaining)\n",
      "EPOCH: 87.000\td_loss: 1.294\tg_loss: 0.865\t(3834.92s - 4980.99s remaining)\n",
      "EPOCH: 88.000\td_loss: 1.295\tg_loss: 0.857\t(3866.71s - 4921.27s remaining)\n",
      "EPOCH: 89.000\td_loss: 1.291\tg_loss: 0.862\t(3896.94s - 4860.23s remaining)\n",
      "EPOCH: 90.000\td_loss: 1.290\tg_loss: 0.860\t(3928.15s - 4801.07s remaining)\n",
      "EPOCH: 91.000\td_loss: 1.292\tg_loss: 0.864\t(3959.47s - 4742.66s remaining)\n",
      "EPOCH: 92.000\td_loss: 1.292\tg_loss: 0.861\t(3989.86s - 4683.75s remaining)\n",
      "EPOCH: 93.000\td_loss: 1.292\tg_loss: 0.860\t(4020.43s - 4625.66s remaining)\n",
      "EPOCH: 94.000\td_loss: 1.295\tg_loss: 0.859\t(4051.17s - 4568.34s remaining)\n",
      "EPOCH: 95.000\td_loss: 1.294\tg_loss: 0.858\t(4082.26s - 4511.97s remaining)\n",
      "EPOCH: 96.000\td_loss: 1.293\tg_loss: 0.857\t(4112.50s - 4455.21s remaining)\n",
      "EPOCH: 97.000\td_loss: 1.291\tg_loss: 0.862\t(4143.54s - 4399.84s remaining)\n",
      "EPOCH: 98.000\td_loss: 1.293\tg_loss: 0.863\t(4174.27s - 4344.65s remaining)\n",
      "EPOCH: 99.000\td_loss: 1.289\tg_loss: 0.864\t(4204.93s - 4289.87s remaining)\n",
      "EPOCH: 100.000\td_loss: 1.288\tg_loss: 0.867\t(4237.58s - 4237.58s remaining)\n",
      "EPOCH: 101.000\td_loss: 1.295\tg_loss: 0.853\t(4268.12s - 4183.61s remaining)\n",
      "EPOCH: 102.000\td_loss: 1.294\tg_loss: 0.857\t(4298.13s - 4129.58s remaining)\n",
      "EPOCH: 103.000\td_loss: 1.292\tg_loss: 0.858\t(4330.50s - 4078.24s remaining)\n",
      "EPOCH: 104.000\td_loss: 1.286\tg_loss: 0.869\t(4362.55s - 4026.97s remaining)\n",
      "EPOCH: 105.000\td_loss: 1.286\tg_loss: 0.873\t(4393.37s - 3974.95s remaining)\n",
      "EPOCH: 106.000\td_loss: 1.294\tg_loss: 0.860\t(4425.61s - 3924.59s remaining)\n",
      "EPOCH: 107.000\td_loss: 1.294\tg_loss: 0.859\t(4457.04s - 3873.88s remaining)\n",
      "EPOCH: 108.000\td_loss: 1.299\tg_loss: 0.853\t(4487.95s - 3823.07s remaining)\n",
      "EPOCH: 109.000\td_loss: 1.292\tg_loss: 0.865\t(4516.76s - 3770.87s remaining)\n",
      "EPOCH: 110.000\td_loss: 1.291\tg_loss: 0.867\t(4545.96s - 3719.42s remaining)\n",
      "EPOCH: 111.000\td_loss: 1.293\tg_loss: 0.858\t(4576.46s - 3669.42s remaining)\n",
      "EPOCH: 112.000\td_loss: 1.296\tg_loss: 0.853\t(4606.76s - 3619.60s remaining)\n",
      "EPOCH: 113.000\td_loss: 1.289\tg_loss: 0.871\t(4637.26s - 3570.28s remaining)\n",
      "EPOCH: 114.000\td_loss: 1.293\tg_loss: 0.857\t(4667.76s - 3521.29s remaining)\n",
      "EPOCH: 115.000\td_loss: 1.289\tg_loss: 0.871\t(4697.79s - 3472.28s remaining)\n",
      "EPOCH: 116.000\td_loss: 1.288\tg_loss: 0.865\t(4726.95s - 3422.96s remaining)\n",
      "EPOCH: 117.000\td_loss: 1.291\tg_loss: 0.867\t(4754.86s - 3373.11s remaining)\n",
      "EPOCH: 118.000\td_loss: 1.295\tg_loss: 0.856\t(4781.91s - 3323.02s remaining)\n",
      "EPOCH: 119.000\td_loss: 1.290\tg_loss: 0.866\t(4809.57s - 3273.74s remaining)\n",
      "EPOCH: 120.000\td_loss: 1.291\tg_loss: 0.859\t(4837.47s - 3224.98s remaining)\n",
      "EPOCH: 121.000\td_loss: 1.292\tg_loss: 0.858\t(4865.17s - 3176.43s remaining)\n",
      "EPOCH: 122.000\td_loss: 1.293\tg_loss: 0.858\t(4892.67s - 3128.10s remaining)\n",
      "EPOCH: 123.000\td_loss: 1.296\tg_loss: 0.855\t(4921.13s - 3080.71s remaining)\n",
      "EPOCH: 124.000\td_loss: 1.295\tg_loss: 0.857\t(4949.75s - 3033.72s remaining)\n",
      "EPOCH: 125.000\td_loss: 1.287\tg_loss: 0.869\t(4979.13s - 2987.48s remaining)\n",
      "EPOCH: 126.000\td_loss: 1.292\tg_loss: 0.860\t(5013.11s - 2944.21s remaining)\n",
      "EPOCH: 127.000\td_loss: 1.296\tg_loss: 0.856\t(5052.51s - 2904.20s remaining)\n",
      "EPOCH: 128.000\td_loss: 1.290\tg_loss: 0.864\t(5096.96s - 2867.04s remaining)\n",
      "EPOCH: 129.000\td_loss: 1.287\tg_loss: 0.869\t(5138.62s - 2828.23s remaining)\n",
      "EPOCH: 130.000\td_loss: 1.291\tg_loss: 0.862\t(5174.26s - 2786.14s remaining)\n",
      "EPOCH: 131.000\td_loss: 1.290\tg_loss: 0.867\t(5207.81s - 2743.05s remaining)\n",
      "EPOCH: 132.000\td_loss: 1.293\tg_loss: 0.861\t(5238.13s - 2698.43s remaining)\n",
      "EPOCH: 133.000\td_loss: 1.286\tg_loss: 0.870\t(5268.32s - 2653.97s remaining)\n",
      "EPOCH: 134.000\td_loss: 1.293\tg_loss: 0.860\t(5299.10s - 2610.00s remaining)\n",
      "EPOCH: 135.000\td_loss: 1.287\tg_loss: 0.866\t(5330.08s - 2566.34s remaining)\n",
      "EPOCH: 136.000\td_loss: 1.289\tg_loss: 0.867\t(5358.71s - 2521.75s remaining)\n",
      "EPOCH: 137.000\td_loss: 1.291\tg_loss: 0.861\t(5386.74s - 2477.12s remaining)\n",
      "EPOCH: 138.000\td_loss: 1.288\tg_loss: 0.871\t(5413.73s - 2432.26s remaining)\n",
      "EPOCH: 139.000\td_loss: 1.289\tg_loss: 0.868\t(5440.77s - 2387.67s remaining)\n",
      "EPOCH: 140.000\td_loss: 1.290\tg_loss: 0.866\t(5468.73s - 2343.74s remaining)\n",
      "EPOCH: 141.000\td_loss: 1.287\tg_loss: 0.869\t(5496.28s - 2299.86s remaining)\n",
      "EPOCH: 142.000\td_loss: 1.287\tg_loss: 0.867\t(5523.76s - 2256.19s remaining)\n",
      "EPOCH: 143.000\td_loss: 1.291\tg_loss: 0.864\t(5550.62s - 2212.48s remaining)\n",
      "EPOCH: 144.000\td_loss: 1.285\tg_loss: 0.874\t(5577.46s - 2169.01s remaining)\n",
      "EPOCH: 145.000\td_loss: 1.290\tg_loss: 0.861\t(5605.58s - 2126.26s remaining)\n",
      "EPOCH: 146.000\td_loss: 1.287\tg_loss: 0.866\t(5634.33s - 2083.93s remaining)\n",
      "EPOCH: 147.000\td_loss: 1.288\tg_loss: 0.864\t(5662.35s - 2041.53s remaining)\n",
      "EPOCH: 148.000\td_loss: 1.289\tg_loss: 0.867\t(5689.90s - 1999.15s remaining)\n",
      "EPOCH: 149.000\td_loss: 1.284\tg_loss: 0.873\t(5717.51s - 1957.00s remaining)\n",
      "EPOCH: 150.000\td_loss: 1.290\tg_loss: 0.860\t(5745.65s - 1915.22s remaining)\n",
      "EPOCH: 151.000\td_loss: 1.288\tg_loss: 0.870\t(5773.48s - 1873.51s remaining)\n",
      "EPOCH: 152.000\td_loss: 1.289\tg_loss: 0.868\t(5801.17s - 1831.95s remaining)\n",
      "EPOCH: 153.000\td_loss: 1.285\tg_loss: 0.871\t(5829.28s - 1790.69s remaining)\n",
      "EPOCH: 154.000\td_loss: 1.287\tg_loss: 0.870\t(5857.44s - 1749.62s remaining)\n",
      "EPOCH: 155.000\td_loss: 1.283\tg_loss: 0.875\t(5884.90s - 1708.52s remaining)\n",
      "EPOCH: 156.000\td_loss: 1.291\tg_loss: 0.862\t(5912.95s - 1667.76s remaining)\n",
      "EPOCH: 157.000\td_loss: 1.285\tg_loss: 0.873\t(5941.08s - 1627.18s remaining)\n",
      "EPOCH: 158.000\td_loss: 1.290\tg_loss: 0.864\t(5969.75s - 1586.90s remaining)\n",
      "EPOCH: 159.000\td_loss: 1.283\tg_loss: 0.875\t(5998.03s - 1546.66s remaining)\n",
      "EPOCH: 160.000\td_loss: 1.283\tg_loss: 0.878\t(6026.76s - 1506.69s remaining)\n",
      "EPOCH: 161.000\td_loss: 1.287\tg_loss: 0.864\t(6055.20s - 1466.79s remaining)\n",
      "EPOCH: 162.000\td_loss: 1.287\tg_loss: 0.866\t(6083.93s - 1427.10s remaining)\n",
      "EPOCH: 163.000\td_loss: 1.286\tg_loss: 0.871\t(6111.79s - 1387.34s remaining)\n",
      "EPOCH: 164.000\td_loss: 1.288\tg_loss: 0.867\t(6140.67s - 1347.95s remaining)\n",
      "EPOCH: 165.000\td_loss: 1.282\tg_loss: 0.877\t(6169.41s - 1308.66s remaining)\n",
      "EPOCH: 166.000\td_loss: 1.282\tg_loss: 0.877\t(6197.42s - 1269.35s remaining)\n",
      "EPOCH: 167.000\td_loss: 1.285\tg_loss: 0.872\t(6226.19s - 1230.33s remaining)\n",
      "EPOCH: 168.000\td_loss: 1.280\tg_loss: 0.883\t(6255.68s - 1191.56s remaining)\n",
      "EPOCH: 169.000\td_loss: 1.288\tg_loss: 0.866\t(6284.55s - 1152.79s remaining)\n",
      "EPOCH: 170.000\td_loss: 1.284\tg_loss: 0.874\t(6312.61s - 1113.99s remaining)\n",
      "EPOCH: 171.000\td_loss: 1.279\tg_loss: 0.878\t(6340.07s - 1075.22s remaining)\n",
      "EPOCH: 172.000\td_loss: 1.285\tg_loss: 0.864\t(6368.96s - 1036.81s remaining)\n",
      "EPOCH: 173.000\td_loss: 1.284\tg_loss: 0.875\t(6396.75s - 998.34s remaining))\n",
      "EPOCH: 174.000\td_loss: 1.279\tg_loss: 0.880\t(6424.13s - 959.93s remaining)\n",
      "EPOCH: 175.000\td_loss: 1.285\tg_loss: 0.870\t(6451.61s - 921.66s remaining)\n",
      "EPOCH: 176.000\td_loss: 1.281\tg_loss: 0.878\t(6479.64s - 883.59s remaining)\n",
      "EPOCH: 177.000\td_loss: 1.284\tg_loss: 0.872\t(6507.99s - 845.67s remaining)\n",
      "EPOCH: 178.000\td_loss: 1.280\tg_loss: 0.883\t(6535.36s - 807.74s remaining)\n",
      "EPOCH: 179.000\td_loss: 1.285\tg_loss: 0.873\t(6563.08s - 769.97s remaining)\n",
      "EPOCH: 180.000\td_loss: 1.282\tg_loss: 0.877\t(6591.10s - 732.34s remaining)\n",
      "EPOCH: 181.000\td_loss: 1.281\tg_loss: 0.881\t(6619.19s - 694.83s remaining)\n",
      "EPOCH: 182.000\td_loss: 1.281\tg_loss: 0.876\t(6646.87s - 657.38s remaining)\n",
      "EPOCH: 183.000\td_loss: 1.279\tg_loss: 0.879\t(6674.63s - 620.05s remaining)\n",
      "EPOCH: 184.000\td_loss: 1.283\tg_loss: 0.876\t(6701.66s - 582.75s remaining)\n",
      "EPOCH: 185.000\td_loss: 1.280\tg_loss: 0.879\t(6728.58s - 545.56s remaining)\n",
      "EPOCH: 186.000\td_loss: 1.282\tg_loss: 0.879\t(6756.98s - 508.59s remaining)\n",
      "EPOCH: 187.000\td_loss: 1.281\tg_loss: 0.875\t(6784.81s - 471.67s remaining)\n",
      "EPOCH: 188.000\td_loss: 1.282\tg_loss: 0.877\t(6813.40s - 434.90s remaining)\n",
      "EPOCH: 189.000\td_loss: 1.283\tg_loss: 0.874\t(6841.78s - 398.20s remaining)\n",
      "EPOCH: 190.000\td_loss: 1.280\tg_loss: 0.883\t(6869.70s - 361.56s remaining)\n",
      "EPOCH: 191.000\td_loss: 1.282\tg_loss: 0.876\t(6897.44s - 325.01s remaining)\n",
      "EPOCH: 192.000\td_loss: 1.284\tg_loss: 0.876\t(6925.44s - 288.56s remaining)\n",
      "EPOCH: 193.000\td_loss: 1.280\tg_loss: 0.876\t(6953.31s - 252.19s remaining)\n",
      "EPOCH: 194.000\td_loss: 1.280\tg_loss: 0.883\t(6981.56s - 215.92s remaining)\n",
      "EPOCH: 195.000\td_loss: 1.274\tg_loss: 0.888\t(7009.41s - 179.73s remaining)\n",
      "EPOCH: 196.000\td_loss: 1.282\tg_loss: 0.874\t(7037.18s - 143.62s remaining)\n",
      "EPOCH: 197.000\td_loss: 1.280\tg_loss: 0.874\t(7064.83s - 107.59s remaining)\n",
      "EPOCH: 198.000\td_loss: 1.277\tg_loss: 0.883\t(7091.24s - 71.63s remaining))\n",
      "EPOCH: 199.000\td_loss: 1.278\tg_loss: 0.883\t(7119.50s - 35.78s remaining)\n",
      "EPOCH: 200.000\td_loss: 1.277\tg_loss: 0.884\t(7147.94s - 0.00s remaining))\n"
     ]
    },
    {
     "name": "stderr",
     "output_type": "stream",
     "text": [
      "100%|██████████| 301/301 [00:35<00:00,  8.46it/s]\n"
     ]
    },
    {
     "data": {
      "image/png": "[encoded data removed]",
      "text/plain": [
       "<Figure size 576x432 with 1 Axes>"
      ]
     },
     "metadata": {
      "needs_background": "light"
     },
     "output_type": "display_data"
    }
   ],
   "source": [
    "# TODO: Run the models over increasing epochs:\n",
    "for epoch in range(num_epochs):\n",
    "    N = len(data_loader)\n",
    "    for i, (images, _) in enumerate(data_loader):\n",
    "        real_data = images.view(len(images), -1).to(device)\n",
    "        fake_data = generator(noise(len(real_data))).to(device)\n",
    "        \n",
    "        # On detaching, we are creating a fresh copy of the tensor \n",
    "        fake_data = fake_data.detach()\n",
    "\n",
    "        # Train the discriminator using the discriminator_train_step\n",
    "        d_loss = discriminator_train_step(real_data, fake_data)\n",
    "\n",
    "        # Generate the fake data\n",
    "        fake_data = generator(noise(len(real_data))).to(device)\n",
    "        # Generate the fake image with fake data\n",
    "        g_loss = generator_train_step(fake_data)\n",
    "\n",
    "        # Record the losses\n",
    "        log.record(epoch+(1+i)/N, d_loss=d_loss.item(), g_loss=g_loss.item(), end='\\r')\n",
    "\n",
    "    log.report_avgs(epoch+1)\n",
    "\n",
    "# Plot the report\n",
    "log.plot_epochs(['d_loss', 'g_loss'])"
   ]
  },
  {
   "cell_type": "markdown",
   "id": "410a2817",
   "metadata": {},
   "source": [
    "#### Preceding output, discriminator and generator losses over increasing epochs "
   ]
  },
  {
   "cell_type": "markdown",
   "id": "257b00a3",
   "metadata": {},
   "source": [
    "> **`NOTE`**: Load real data `(real_data)` and `fake data`, where fake data\n",
    "(fake_data) is obtained by passing noise (with a batch size of the\n",
    "number of data points in real_data – `len(real_data))` through the\n",
    "generator network. Note that it is important to\n",
    "run `fake_data.detach()`, or else training will not work. On\n",
    "detaching, we are creating a fresh copy of the tensor so that when\n",
    "`error.backward()` is called in `discriminator_train_step`, the\n",
    "tensors associated with the generator (which create fake_data) are\n",
    "not affected:"
   ]
  },
  {
   "cell_type": "code",
   "execution_count": 27,
   "id": "b1b051f9",
   "metadata": {},
   "outputs": [
    {
     "data": {
      "image/png": "[encoded data removed]",
      "text/plain": [
       "<Figure size 360x360 with 1 Axes>"
      ]
     },
     "metadata": {
      "needs_background": "light"
     },
     "output_type": "display_data"
    }
   ],
   "source": [
    "# TODO: Visualize the fake data post-training:\n",
    "z = torch.randn(64, 100).to(device)\n",
    "sample_images = generator(z).data.cpu().view(64, 1, 28, 28)\n",
    "grid = make_grid(sample_images, nrow=8, normalize=True)\n",
    "show(grid.cpu().detach().permute(1, 2, 0), sz=5)"
   ]
  },
  {
   "cell_type": "code",
   "execution_count": null,
   "id": "41d93163",
   "metadata": {},
   "outputs": [],
   "source": []
  }
 ],
 "metadata": {
  "kernelspec": {
   "display_name": "Python 3 (ipykernel)",
   "language": "python",
   "name": "python3"
  },
  "language_info": {
   "codemirror_mode": {
    "name": "ipython",
    "version": 3
   },
   "file_extension": ".py",
   "mimetype": "text/x-python",
   "name": "python",
   "nbconvert_exporter": "python",
   "pygments_lexer": "ipython3",
   "version": "3.8.12"
  }
 },
 "nbformat": 4,
 "nbformat_minor": 5
}
