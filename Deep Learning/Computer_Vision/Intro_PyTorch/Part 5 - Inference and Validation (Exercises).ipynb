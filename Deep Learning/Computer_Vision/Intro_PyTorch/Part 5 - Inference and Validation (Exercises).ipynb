{
 "cells": [
  {
   "cell_type": "markdown",
   "metadata": {},
   "source": [
    "# Inference and Validation\n",
    "\n",
    "Now that you have a trained network, you can use it for making predictions. This is typically called **inference**, a term borrowed from statistics. However, neural networks have a tendency to perform *too well* on the training data and aren't able to generalize to data that hasn't been seen before. This is called **overfitting** and it impairs inference performance. To test for overfitting while training, we measure the performance on data not in the training set called the **validation** set. We avoid overfitting through regularization such as dropout while monitoring the validation performance during training. In this notebook, I'll show you how to do this in PyTorch. \n",
    "\n",
    "As usual, let's start by loading the dataset through torchvision. You'll learn more about torchvision and loading data in a later part. This time we'll be taking advantage of the test set which you can get by setting `train=False` here:\n",
    "\n",
    "```python\n",
    "testset = datasets.FashionMNIST('D:/Programming and Courses/Neural Network/Udacity_DeepLearning/Neural Network/Non_Linear/Intro_Pytorch/F_MNIST_data/', download=True, train=False, transform=transform)\n",
    "```\n",
    "\n",
    "The test set contains images just like the training set. Typically you'll see 10-20% of the original dataset held out for testing and validation with the rest being used for training."
   ]
  },
  {
   "cell_type": "code",
   "execution_count": 87,
   "metadata": {},
   "outputs": [],
   "source": [
    "import torch\n",
    "from torchvision import datasets, transforms\n",
    "\n",
    "# Define a transform to normalize the data\n",
    "transform = transforms.Compose([transforms.ToTensor(),\n",
    "                                transforms.Normalize((0.5,), (0.5,))])\n",
    "# Download and load the training data\n",
    "trainset = datasets.FashionMNIST('D:/Programming and Courses/Neural Network/Udacity_DeepLearning/Neural Network/Non_Linear/Intro_Pytorch/F_MNIST_data/', download=True, train=True, transform=transform)\n",
    "trainloader = torch.utils.data.DataLoader(trainset, batch_size=64, shuffle=True)\n",
    "\n",
    "# Download and load the test data\n",
    "testset = datasets.FashionMNIST('D:/Programming and Courses/Neural Network/Udacity_DeepLearning/Neural Network/Non_Linear/Intro_Pytorch/F_MNIST_data/', download=True, train=False, transform=transform)\n",
    "testloader = torch.utils.data.DataLoader(testset, batch_size=64, shuffle=True)"
   ]
  },
  {
   "cell_type": "markdown",
   "metadata": {},
   "source": [
    "Here I'll create a model like normal, using the same one from my solution for part 4."
   ]
  },
  {
   "cell_type": "code",
   "execution_count": 88,
   "metadata": {},
   "outputs": [],
   "source": [
    "# This is the same we build in Fashion_MNIST dataset. Only different is methodolgies.\n",
    "\n",
    "from torch import nn, optim\n",
    "import torch.nn.functional as F\n",
    "\n",
    "class Classifier(nn.Module):\n",
    "    def __init__(self):\n",
    "        super().__init__()\n",
    "        self.fc1 = nn.Linear(784, 256)\n",
    "        self.fc2 = nn.Linear(256, 128)\n",
    "        self.fc3 = nn.Linear(128, 64)\n",
    "        self.fc4 = nn.Linear(64, 10)\n",
    "        \n",
    "    def forward(self, x):\n",
    "        # make sure input tensor is flattened (i.e., You don't need flatten in the tranning)\n",
    "        x = x.view(x.shape[0], -1)\n",
    "        \n",
    "        x = F.relu(self.fc1(x))\n",
    "        x = F.relu(self.fc2(x))\n",
    "        x = F.relu(self.fc3(x))\n",
    "        x = F.log_softmax(self.fc4(x), dim=1)\n",
    "        \n",
    "        return x"
   ]
  },
  {
   "cell_type": "markdown",
   "metadata": {},
   "source": [
    "The goal of validation is to measure the model's performance on data that isn't part of the training set. Performance here is up to the developer to define though. Typically this is just accuracy, the percentage of classes the network predicted correctly. Other options are [precision and recall](https://en.wikipedia.org/wiki/Precision_and_recall#Definition_(classification_context)) and top-5 error rate. We'll focus on accuracy here. First I'll do a forward pass with one batch from the test set."
   ]
  },
  {
   "cell_type": "code",
   "execution_count": 89,
   "metadata": {
    "scrolled": false
   },
   "outputs": [
    {
     "name": "stdout",
     "output_type": "stream",
     "text": [
      "tensor([[0.0944, 0.0931, 0.1047, 0.0958, 0.0943, 0.1069, 0.1086, 0.0901, 0.1047,\n",
      "         0.1073],\n",
      "        [0.0960, 0.0925, 0.1064, 0.0946, 0.0915, 0.1089, 0.1069, 0.0869, 0.1075,\n",
      "         0.1088],\n",
      "        [0.0982, 0.0939, 0.1025, 0.0960, 0.0942, 0.1022, 0.1116, 0.0914, 0.1007,\n",
      "         0.1093],\n",
      "        [0.0977, 0.0931, 0.1028, 0.0978, 0.0946, 0.1033, 0.1083, 0.0893, 0.1032,\n",
      "         0.1098],\n",
      "        [0.0972, 0.0925, 0.1029, 0.0980, 0.0949, 0.1038, 0.1083, 0.0908, 0.1031,\n",
      "         0.1085],\n",
      "        [0.0963, 0.0929, 0.1039, 0.0977, 0.0924, 0.1080, 0.1059, 0.0896, 0.1061,\n",
      "         0.1072],\n",
      "        [0.0926, 0.0931, 0.1059, 0.0958, 0.0950, 0.1065, 0.1077, 0.0909, 0.1056,\n",
      "         0.1069],\n",
      "        [0.0944, 0.0919, 0.1043, 0.0983, 0.0919, 0.1067, 0.1072, 0.0890, 0.1046,\n",
      "         0.1116],\n",
      "        [0.0949, 0.0932, 0.1050, 0.0944, 0.0924, 0.1069, 0.1072, 0.0896, 0.1085,\n",
      "         0.1079],\n",
      "        [0.0949, 0.0929, 0.1055, 0.0973, 0.0946, 0.1050, 0.1068, 0.0906, 0.1042,\n",
      "         0.1082],\n",
      "        [0.0948, 0.0949, 0.1043, 0.0983, 0.0935, 0.1074, 0.1084, 0.0891, 0.1031,\n",
      "         0.1063],\n",
      "        [0.0936, 0.0933, 0.1053, 0.0972, 0.0931, 0.1078, 0.1090, 0.0897, 0.1038,\n",
      "         0.1071],\n",
      "        [0.0944, 0.0933, 0.1047, 0.0977, 0.0936, 0.1076, 0.1090, 0.0887, 0.1042,\n",
      "         0.1069],\n",
      "        [0.0949, 0.0937, 0.1066, 0.0959, 0.0938, 0.1076, 0.1069, 0.0894, 0.1051,\n",
      "         0.1061],\n",
      "        [0.0966, 0.0943, 0.1043, 0.0994, 0.0909, 0.1054, 0.1054, 0.0902, 0.1022,\n",
      "         0.1114],\n",
      "        [0.0958, 0.0927, 0.1064, 0.0936, 0.0914, 0.1087, 0.1080, 0.0879, 0.1068,\n",
      "         0.1087],\n",
      "        [0.0933, 0.0920, 0.1077, 0.0974, 0.0938, 0.1071, 0.1080, 0.0891, 0.1039,\n",
      "         0.1076],\n",
      "        [0.0967, 0.0941, 0.1037, 0.0958, 0.0913, 0.1077, 0.1095, 0.0903, 0.1040,\n",
      "         0.1069],\n",
      "        [0.0933, 0.0934, 0.1063, 0.0960, 0.0930, 0.1071, 0.1082, 0.0889, 0.1060,\n",
      "         0.1079],\n",
      "        [0.0942, 0.0933, 0.1064, 0.0973, 0.0927, 0.1058, 0.1057, 0.0910, 0.1035,\n",
      "         0.1102],\n",
      "        [0.0937, 0.0929, 0.1049, 0.0978, 0.0928, 0.1072, 0.1090, 0.0905, 0.1046,\n",
      "         0.1066],\n",
      "        [0.0957, 0.0934, 0.1068, 0.0955, 0.0909, 0.1090, 0.1092, 0.0860, 0.1060,\n",
      "         0.1075],\n",
      "        [0.0955, 0.0942, 0.1047, 0.0966, 0.0910, 0.1067, 0.1072, 0.0878, 0.1075,\n",
      "         0.1088],\n",
      "        [0.0952, 0.0930, 0.1052, 0.0968, 0.0940, 0.1050, 0.1092, 0.0902, 0.1049,\n",
      "         0.1066],\n",
      "        [0.0967, 0.0925, 0.1035, 0.0963, 0.0920, 0.1073, 0.1092, 0.0907, 0.1047,\n",
      "         0.1071],\n",
      "        [0.0938, 0.0936, 0.1041, 0.0993, 0.0921, 0.1041, 0.1068, 0.0924, 0.1000,\n",
      "         0.1138],\n",
      "        [0.0939, 0.0935, 0.1049, 0.0961, 0.0944, 0.1055, 0.1085, 0.0896, 0.1061,\n",
      "         0.1076],\n",
      "        [0.0966, 0.0932, 0.1047, 0.0970, 0.0913, 0.1078, 0.1084, 0.0893, 0.1053,\n",
      "         0.1064],\n",
      "        [0.0950, 0.0929, 0.1060, 0.0952, 0.0925, 0.1069, 0.1081, 0.0893, 0.1086,\n",
      "         0.1055],\n",
      "        [0.0959, 0.0933, 0.1045, 0.0962, 0.0923, 0.1084, 0.1075, 0.0862, 0.1065,\n",
      "         0.1092],\n",
      "        [0.0937, 0.0919, 0.1067, 0.0977, 0.0930, 0.1029, 0.1069, 0.0910, 0.1043,\n",
      "         0.1119],\n",
      "        [0.0972, 0.0918, 0.1049, 0.0964, 0.0922, 0.1055, 0.1072, 0.0874, 0.1062,\n",
      "         0.1112],\n",
      "        [0.0955, 0.0963, 0.1029, 0.0950, 0.0917, 0.1060, 0.1089, 0.0881, 0.1059,\n",
      "         0.1098],\n",
      "        [0.0973, 0.0926, 0.1031, 0.1003, 0.0934, 0.1055, 0.1049, 0.0871, 0.1046,\n",
      "         0.1113],\n",
      "        [0.0979, 0.0941, 0.1039, 0.0970, 0.0922, 0.1070, 0.1076, 0.0888, 0.1039,\n",
      "         0.1075],\n",
      "        [0.0934, 0.0932, 0.1067, 0.0944, 0.0916, 0.1070, 0.1082, 0.0885, 0.1092,\n",
      "         0.1077],\n",
      "        [0.0931, 0.0914, 0.1060, 0.0993, 0.0939, 0.1036, 0.1073, 0.0915, 0.1025,\n",
      "         0.1114],\n",
      "        [0.0941, 0.0933, 0.1045, 0.1007, 0.0933, 0.1038, 0.1071, 0.0899, 0.1032,\n",
      "         0.1102],\n",
      "        [0.0961, 0.0914, 0.1062, 0.0961, 0.0937, 0.1050, 0.1069, 0.0910, 0.1050,\n",
      "         0.1085],\n",
      "        [0.0947, 0.0939, 0.1047, 0.0973, 0.0928, 0.1085, 0.1087, 0.0900, 0.1043,\n",
      "         0.1052],\n",
      "        [0.0964, 0.0928, 0.1054, 0.0948, 0.0922, 0.1091, 0.1073, 0.0883, 0.1069,\n",
      "         0.1068],\n",
      "        [0.0958, 0.0940, 0.1039, 0.0963, 0.0932, 0.1068, 0.1085, 0.0893, 0.1046,\n",
      "         0.1074],\n",
      "        [0.0948, 0.0934, 0.1059, 0.0951, 0.0911, 0.1074, 0.1071, 0.0880, 0.1088,\n",
      "         0.1084],\n",
      "        [0.0950, 0.0928, 0.1024, 0.0956, 0.0931, 0.1049, 0.1091, 0.0908, 0.1069,\n",
      "         0.1094],\n",
      "        [0.0958, 0.0925, 0.1049, 0.0989, 0.0932, 0.1034, 0.1057, 0.0908, 0.1034,\n",
      "         0.1115],\n",
      "        [0.0949, 0.0946, 0.1052, 0.0965, 0.0940, 0.1069, 0.1075, 0.0878, 0.1036,\n",
      "         0.1090],\n",
      "        [0.0972, 0.0938, 0.1060, 0.0950, 0.0917, 0.1080, 0.1072, 0.0849, 0.1063,\n",
      "         0.1099],\n",
      "        [0.0961, 0.0954, 0.1036, 0.0979, 0.0921, 0.1056, 0.1069, 0.0894, 0.1045,\n",
      "         0.1084],\n",
      "        [0.0961, 0.0916, 0.1039, 0.0959, 0.0913, 0.1077, 0.1115, 0.0888, 0.1066,\n",
      "         0.1066],\n",
      "        [0.0968, 0.0926, 0.1040, 0.0968, 0.0927, 0.1078, 0.1069, 0.0872, 0.1060,\n",
      "         0.1093],\n",
      "        [0.0952, 0.0931, 0.1052, 0.0976, 0.0928, 0.1079, 0.1078, 0.0901, 0.1046,\n",
      "         0.1058],\n",
      "        [0.0956, 0.0923, 0.1053, 0.0962, 0.0919, 0.1075, 0.1083, 0.0900, 0.1058,\n",
      "         0.1071],\n",
      "        [0.0961, 0.0939, 0.1048, 0.0987, 0.0931, 0.1055, 0.1065, 0.0896, 0.1039,\n",
      "         0.1080],\n",
      "        [0.0954, 0.0935, 0.1056, 0.0969, 0.0924, 0.1060, 0.1087, 0.0893, 0.1060,\n",
      "         0.1063],\n",
      "        [0.0950, 0.0932, 0.1061, 0.0950, 0.0912, 0.1065, 0.1066, 0.0896, 0.1090,\n",
      "         0.1078],\n",
      "        [0.0955, 0.0939, 0.1053, 0.0954, 0.0922, 0.1075, 0.1073, 0.0893, 0.1067,\n",
      "         0.1069],\n",
      "        [0.0954, 0.0953, 0.1042, 0.0961, 0.0918, 0.1071, 0.1076, 0.0881, 0.1070,\n",
      "         0.1073],\n",
      "        [0.0959, 0.0923, 0.1063, 0.0968, 0.0922, 0.1077, 0.1076, 0.0885, 0.1057,\n",
      "         0.1069],\n",
      "        [0.0962, 0.0937, 0.1039, 0.0999, 0.0918, 0.1048, 0.1062, 0.0910, 0.1017,\n",
      "         0.1107],\n",
      "        [0.0953, 0.0917, 0.1082, 0.0962, 0.0935, 0.1056, 0.1076, 0.0894, 0.1033,\n",
      "         0.1093],\n",
      "        [0.0978, 0.0931, 0.1046, 0.0981, 0.0933, 0.1063, 0.1077, 0.0888, 0.1045,\n",
      "         0.1058],\n",
      "        [0.0946, 0.0927, 0.1070, 0.0970, 0.0930, 0.1078, 0.1068, 0.0890, 0.1055,\n",
      "         0.1066],\n",
      "        [0.0961, 0.0907, 0.1051, 0.1011, 0.0916, 0.1051, 0.1058, 0.0917, 0.1003,\n",
      "         0.1126],\n",
      "        [0.0963, 0.0940, 0.1039, 0.0950, 0.0934, 0.1087, 0.1090, 0.0888, 0.1063,\n",
      "         0.1047]], grad_fn=<ExpBackward0>)\n",
      "torch.Size([64, 10])\n"
     ]
    }
   ],
   "source": [
    "model = Classifier()\n",
    "\n",
    "images, labels = next(iter(testloader))\n",
    "# Get the class probabilities\n",
    "ps = torch.exp(model(images))\n",
    "# Make sure the shape is appropriate, we should get 10 class probabilities for 64 examples\n",
    "print(ps)\n",
    "print(ps.shape)"
   ]
  },
  {
   "cell_type": "markdown",
   "metadata": {},
   "source": [
    "With the probabilities, we can get the most likely class using the `ps.topk` method. This returns the $k$ highest values. Since we just want the most likely class, we can use `ps.topk(1)`. This returns a tuple of the top-$k$ values and the top-$k$ indices. If the highest value is the fifth element, we'll get back 4 as the index."
   ]
  },
  {
   "cell_type": "code",
   "execution_count": 90,
   "metadata": {},
   "outputs": [
    {
     "name": "stdout",
     "output_type": "stream",
     "text": [
      "tensor([[6],\n",
      "        [5],\n",
      "        [6],\n",
      "        [9],\n",
      "        [9],\n",
      "        [5],\n",
      "        [6],\n",
      "        [9],\n",
      "        [8],\n",
      "        [9]])\n"
     ]
    }
   ],
   "source": [
    "top_p, top_class = ps.topk(1, dim=1)\n",
    "# Look at the most likely classes for the first 10 examples\n",
    "print(top_class[:10,:])"
   ]
  },
  {
   "cell_type": "markdown",
   "metadata": {},
   "source": [
    "Now we can check if the predicted classes match the labels. This is simple to do by equating `top_class` and `labels`, but we have to be careful of the shapes. Here `top_class` is a 2D tensor with shape `(64, 1)` while `labels` is 1D with shape `(64)`. To get the equality to work out the way we want, `top_class` and `labels` must have the same shape.\n",
    "\n",
    "If we do\n",
    "\n",
    "```python\n",
    "equals = top_class == labels\n",
    "```\n",
    "\n",
    "`equals` will have shape `(64, 64)`, try it yourself. What it's doing is comparing the one element in each row of `top_class` with each element in `labels` which returns 64 True/False boolean values for each row."
   ]
  },
  {
   "cell_type": "code",
   "execution_count": 91,
   "metadata": {},
   "outputs": [
    {
     "data": {
      "text/plain": [
       "torch.Size([64, 1])"
      ]
     },
     "execution_count": 91,
     "metadata": {},
     "output_type": "execute_result"
    }
   ],
   "source": [
    "top_class.shape"
   ]
  },
  {
   "cell_type": "code",
   "execution_count": 92,
   "metadata": {},
   "outputs": [
    {
     "name": "stdout",
     "output_type": "stream",
     "text": [
      "torch.Size([64])\n"
     ]
    },
    {
     "data": {
      "text/plain": [
       "tensor([3, 9, 8, 2, 8, 0, 1, 9, 7, 4, 1, 1, 1, 6, 0, 5, 3, 8, 4, 3, 1, 7, 7, 4,\n",
       "        8, 0, 2, 2, 7, 9, 0, 9, 8, 9, 8, 5, 0, 9, 2, 3, 2, 3, 7, 0, 3, 3, 9, 0,\n",
       "        9, 9, 1, 6, 2, 2, 7, 4, 6, 6, 0, 4, 8, 1, 0, 0])"
      ]
     },
     "execution_count": 92,
     "metadata": {},
     "output_type": "execute_result"
    }
   ],
   "source": [
    "print(labels.shape)\n",
    "labels"
   ]
  },
  {
   "cell_type": "markdown",
   "metadata": {},
   "source": [
    "### We are just comparing top class labels with orginal labels"
   ]
  },
  {
   "cell_type": "code",
   "execution_count": 93,
   "metadata": {},
   "outputs": [],
   "source": [
    "equals = top_class == labels.view(*top_class.shape)"
   ]
  },
  {
   "cell_type": "code",
   "execution_count": 94,
   "metadata": {},
   "outputs": [
    {
     "data": {
      "text/plain": [
       "tensor([[False],\n",
       "        [False],\n",
       "        [False],\n",
       "        [False],\n",
       "        [False],\n",
       "        [False],\n",
       "        [False],\n",
       "        [ True],\n",
       "        [False],\n",
       "        [False],\n",
       "        [False],\n",
       "        [False],\n",
       "        [False],\n",
       "        [False],\n",
       "        [False],\n",
       "        [ True],\n",
       "        [False],\n",
       "        [False],\n",
       "        [False],\n",
       "        [False],\n",
       "        [False],\n",
       "        [False],\n",
       "        [False],\n",
       "        [False],\n",
       "        [False],\n",
       "        [False],\n",
       "        [False],\n",
       "        [False],\n",
       "        [False],\n",
       "        [ True],\n",
       "        [False],\n",
       "        [ True],\n",
       "        [False],\n",
       "        [ True],\n",
       "        [False],\n",
       "        [False],\n",
       "        [False],\n",
       "        [ True],\n",
       "        [False],\n",
       "        [False],\n",
       "        [False],\n",
       "        [False],\n",
       "        [False],\n",
       "        [False],\n",
       "        [False],\n",
       "        [False],\n",
       "        [ True],\n",
       "        [False],\n",
       "        [False],\n",
       "        [ True],\n",
       "        [False],\n",
       "        [ True],\n",
       "        [False],\n",
       "        [False],\n",
       "        [False],\n",
       "        [False],\n",
       "        [ True],\n",
       "        [False],\n",
       "        [False],\n",
       "        [False],\n",
       "        [False],\n",
       "        [False],\n",
       "        [False],\n",
       "        [False]])"
      ]
     },
     "execution_count": 94,
     "metadata": {},
     "output_type": "execute_result"
    }
   ],
   "source": [
    "equals"
   ]
  },
  {
   "cell_type": "code",
   "execution_count": 95,
   "metadata": {},
   "outputs": [
    {
     "data": {
      "text/plain": [
       "torch.Size([64, 1])"
      ]
     },
     "execution_count": 95,
     "metadata": {},
     "output_type": "execute_result"
    }
   ],
   "source": [
    "equals.shape"
   ]
  },
  {
   "cell_type": "markdown",
   "metadata": {},
   "source": [
    "Now we need to calculate the percentage of correct predictions. `equals` has binary values, either 0 or 1. This means that if we just sum up all the values and divide by the number of values, we get the percentage of correct predictions. This is the same operation as taking the mean, so we can get the accuracy with a call to `torch.mean`. If only it was that simple. If you try `torch.mean(equals)`, you'll get an error\n",
    "\n",
    "```\n",
    "RuntimeError: mean is not implemented for type torch.ByteTensor\n",
    "```\n",
    "\n",
    "This happens because `equals` has type **`torch.ByteTensor`** but `torch.mean` isn't implemented for tensors with that type. So we'll need to convert `equals` to a float tensor(**`FloatTensor`**). Note that when we take `torch.mean` it returns a scalar tensor, to get the actual value as a float we'll need to do `accuracy.item()`."
   ]
  },
  {
   "cell_type": "code",
   "execution_count": 96,
   "metadata": {},
   "outputs": [
    {
     "name": "stdout",
     "output_type": "stream",
     "text": [
      "Accuracy: 15.625%\n"
     ]
    }
   ],
   "source": [
    "accuracy = torch.mean(equals.type(torch.FloatTensor))\n",
    "print(f'Accuracy: {accuracy.item()*100}%')"
   ]
  },
  {
   "cell_type": "markdown",
   "metadata": {},
   "source": [
    "The network is untrained so it's making random guesses and we should see an accuracy around 10%. Now let's train our network and include our validation pass so we can measure how well the network is performing on the test set. Since we're not updating our parameters in the validation pass, we can speed up our code by turning off gradients using `torch.no_grad()`:\n",
    "\n",
    "```python\n",
    "# turn off gradients\n",
    "with torch.no_grad():\n",
    "    # validation pass here\n",
    "    for images, labels in testloader:\n",
    "        ...\n",
    "```\n",
    "\n",
    ">**Exercise:** Implement the validation loop below and print out the total accuracy after the loop. You can largely copy and paste the code from above, but I suggest typing it in because writing it out yourself is essential for building the skill. In general you'll always learn more by typing it rather than copy-pasting. You should be able to get an accuracy above 80%."
   ]
  },
  {
   "cell_type": "code",
   "execution_count": 115,
   "metadata": {},
   "outputs": [
    {
     "name": "stdout",
     "output_type": "stream",
     "text": [
      "Epoch: 1/30..  Training Loss: 0.610..  Test Loss: 0.511..  Test Accuracy: 55.548\n",
      "Epoch: 2/30..  Training Loss: 0.478..  Test Loss: 0.476..  Test Accuracy: 55.548\n",
      "Epoch: 3/30..  Training Loss: 0.447..  Test Loss: 0.479..  Test Accuracy: 55.548\n",
      "Epoch: 4/30..  Training Loss: 0.428..  Test Loss: 0.466..  Test Accuracy: 55.548\n",
      "Epoch: 5/30..  Training Loss: 0.424..  Test Loss: 0.473..  Test Accuracy: 55.548\n",
      "Epoch: 6/30..  Training Loss: 0.410..  Test Loss: 0.471..  Test Accuracy: 55.548\n",
      "Epoch: 7/30..  Training Loss: 0.404..  Test Loss: 0.476..  Test Accuracy: 55.548\n",
      "Epoch: 8/30..  Training Loss: 0.396..  Test Loss: 0.458..  Test Accuracy: 55.548\n",
      "Epoch: 9/30..  Training Loss: 0.391..  Test Loss: 0.446..  Test Accuracy: 55.548\n",
      "Epoch: 10/30..  Training Loss: 0.386..  Test Loss: 0.470..  Test Accuracy: 55.548\n",
      "Epoch: 11/30..  Training Loss: 0.376..  Test Loss: 0.452..  Test Accuracy: 55.548\n",
      "Epoch: 12/30..  Training Loss: 0.385..  Test Loss: 0.441..  Test Accuracy: 55.548\n",
      "Epoch: 13/30..  Training Loss: 0.376..  Test Loss: 0.467..  Test Accuracy: 55.548\n",
      "Epoch: 14/30..  Training Loss: 0.378..  Test Loss: 0.464..  Test Accuracy: 55.548\n",
      "Epoch: 15/30..  Training Loss: 0.369..  Test Loss: 0.448..  Test Accuracy: 55.548\n",
      "Epoch: 16/30..  Training Loss: 0.367..  Test Loss: 0.421..  Test Accuracy: 55.548\n",
      "Epoch: 17/30..  Training Loss: 0.361..  Test Loss: 0.452..  Test Accuracy: 55.548\n",
      "Epoch: 18/30..  Training Loss: 0.360..  Test Loss: 0.464..  Test Accuracy: 55.548\n",
      "Epoch: 19/30..  Training Loss: 0.358..  Test Loss: 0.448..  Test Accuracy: 55.548\n",
      "Epoch: 20/30..  Training Loss: 0.354..  Test Loss: 0.465..  Test Accuracy: 55.548\n",
      "Epoch: 21/30..  Training Loss: 0.358..  Test Loss: 0.459..  Test Accuracy: 55.548\n",
      "Epoch: 22/30..  Training Loss: 0.354..  Test Loss: 0.443..  Test Accuracy: 55.548\n",
      "Epoch: 23/30..  Training Loss: 0.363..  Test Loss: 0.457..  Test Accuracy: 55.548\n",
      "Epoch: 24/30..  Training Loss: 0.358..  Test Loss: 0.459..  Test Accuracy: 55.548\n",
      "Epoch: 25/30..  Training Loss: 0.344..  Test Loss: 0.453..  Test Accuracy: 55.548\n",
      "Epoch: 26/30..  Training Loss: 0.348..  Test Loss: 0.470..  Test Accuracy: 55.548\n",
      "Epoch: 27/30..  Training Loss: 0.346..  Test Loss: 0.469..  Test Accuracy: 55.548\n",
      "Epoch: 28/30..  Training Loss: 0.355..  Test Loss: 0.472..  Test Accuracy: 55.548\n",
      "Epoch: 29/30..  Training Loss: 0.337..  Test Loss: 0.447..  Test Accuracy: 55.548\n",
      "Epoch: 30/30..  Training Loss: 0.348..  Test Loss: 0.451..  Test Accuracy: 55.548\n"
     ]
    }
   ],
   "source": [
    "model = Classifier()\n",
    "criterion = nn.NLLLoss()\n",
    "optimizer = optim.Adam(model.parameters(), lr=0.003)\n",
    "\n",
    "epochs = 30\n",
    "steps = 0\n",
    "\n",
    "train_losses, test_losses = [], []\n",
    "for e in range(epochs):\n",
    "    tot_train_loss = 0\n",
    "    for images, labels in trainloader:\n",
    "\n",
    "        optimizer.zero_grad()\n",
    "        \n",
    "        log_ps = model(images)\n",
    "        loss = criterion(log_ps, labels)\n",
    "        loss.backward()\n",
    "        optimizer.step()\n",
    "        \n",
    "        tot_train_loss += loss.item()\n",
    "        \n",
    "    else:\n",
    "        ## TODO: Implement the validation pass and print out the validation accuracy\n",
    "        tot_test_loss = 0\n",
    "        accuracy = 0\n",
    "        with torch.no_grad():\n",
    "            for images, labels in testloader:\n",
    "                log_ps = model(images)\n",
    "                loss = criterion(log_ps, labels)\n",
    "                tot_test_loss += loss.item()\n",
    "                \n",
    "                ps = torch.exp(log_ps)\n",
    "                top_p, top_class = ps.topk(1, dim=1)\n",
    "                equals = top_class == labels.view(top_class.shape)\n",
    "                \n",
    "                accuracy += torch.mean(equals.type(torch.FloatTensor))\n",
    "        \n",
    "        train_loss = tot_train_loss/len(trainloader)\n",
    "        test_loss = tot_test_loss/len(testloader)\n",
    "        \n",
    "        # Get mean loss to enable comparison between train and test sets\n",
    "        train_losses.append(train_loss)\n",
    "        test_losses.append(test_loss)\n",
    "                \n",
    "        print(\"Epoch: {}/{}.. \".format(e+1, epochs),\n",
    "              \"Training Loss: {:.3f}.. \".format(train_loss),\n",
    "              \"Test Loss: {:.3f}.. \".format(test_loss),\n",
    "              \"Test Accuracy: {:.3f}\".format(test_correct / len(testloader)))"
   ]
  },
  {
   "cell_type": "code",
   "execution_count": 116,
   "metadata": {},
   "outputs": [],
   "source": [
    "%matplotlib inline\n",
    "%config InlineBackend.figure_format = 'retina'\n",
    "\n",
    "import matplotlib.pyplot as plt"
   ]
  },
  {
   "cell_type": "code",
   "execution_count": 117,
   "metadata": {},
   "outputs": [
    {
     "data": {
      "image/png": "[encoded data removed]",
      "text/plain": [
       "<Figure size 432x288 with 1 Axes>"
      ]
     },
     "metadata": {
      "image/png": {
       "height": 248,
       "width": 380
      },
      "needs_background": "light"
     },
     "output_type": "display_data"
    }
   ],
   "source": [
    "plt.plot(train_losses, label='Training loss')\n",
    "plt.plot(test_losses, label='Validation loss')\n",
    "plt.legend(frameon=False);"
   ]
  },
  {
   "cell_type": "markdown",
   "metadata": {},
   "source": [
    "## Overfitting\n",
    "\n",
    "If we look at the training and validation losses as we train the network, we can see a phenomenon known as overfitting.\n",
    "\n",
    "<img src='assets/overfitting.png' width=450px>\n",
    "\n",
    "The network learns the training set better and better, resulting in lower training losses. However, it starts having problems generalizing to data outside the training set leading to the validation loss increasing. The ultimate goal of any deep learning model is to make predictions on new data, so we should strive to get the lowest validation loss possible. One option is to use the version of the model with the lowest validation loss, here the one around 8-10 training epochs. This strategy is called *early-stopping*. In practice, you'd save the model frequently as you're training then later choose the model with the lowest validation loss.\n",
    "\n",
    "The most common method to reduce overfitting (outside of early-stopping) is *dropout*, where we randomly drop input units. This forces the network to share information between weights, increasing it's ability to generalize to new data. Adding dropout in PyTorch is straightforward using the [`nn.Dropout`](https://pytorch.org/docs/stable/nn.html#torch.nn.Dropout) module.\n",
    "\n",
    "```python\n",
    "class Classifier(nn.Module):\n",
    "    def __init__(self):\n",
    "        super().__init__()\n",
    "        self.fc1 = nn.Linear(784, 256)\n",
    "        self.fc2 = nn.Linear(256, 128)\n",
    "        self.fc3 = nn.Linear(128, 64)\n",
    "        self.fc4 = nn.Linear(64, 10)\n",
    "        \n",
    "        # Dropout module with 0.2 drop probability\n",
    "        self.dropout = nn.Dropout(p=0.2)\n",
    "        \n",
    "    def forward(self, x):\n",
    "        # make sure input tensor is flattened\n",
    "        x = x.view(x.shape[0], -1)\n",
    "        \n",
    "        # Now with dropout\n",
    "        x = self.dropout(F.relu(self.fc1(x)))\n",
    "        x = self.dropout(F.relu(self.fc2(x)))\n",
    "        x = self.dropout(F.relu(self.fc3(x)))\n",
    "        \n",
    "        # output so no dropout here\n",
    "        x = F.log_softmax(self.fc4(x), dim=1)\n",
    "        \n",
    "        return x\n",
    "```\n",
    "\n",
    "During training we want to use dropout to prevent overfitting, but during inference we want to use the entire network. So, we need to turn off dropout during validation, testing, and whenever we're using the network to make predictions. To do this, you use `model.eval()`. This sets the model to evaluation mode where the dropout probability is 0. You can turn dropout back on by setting the model to train mode with `model.train()`. In general, the pattern for the validation loop will look like this, where you turn off gradients, set the model to evaluation mode, calculate the validation loss and metric, then set the model back to train mode.\n",
    "\n",
    "```python\n",
    "# turn off gradients\n",
    "with torch.no_grad():\n",
    "    \n",
    "    # set model to evaluation mode\n",
    "    model.eval()\n",
    "    \n",
    "    # validation pass here\n",
    "    for images, labels in testloader:\n",
    "        ...\n",
    "\n",
    "# set model back to train mode\n",
    "model.train()\n",
    "```"
   ]
  },
  {
   "cell_type": "markdown",
   "metadata": {},
   "source": [
    "> **Exercise:** Add dropout to your model and train it on Fashion-MNIST again. See if you can get a lower validation loss or higher accuracy."
   ]
  },
  {
   "cell_type": "code",
   "execution_count": 118,
   "metadata": {},
   "outputs": [],
   "source": [
    "## TODO: Define your model with dropout added\n",
    "# This is the same we build in Fashion_MNIST dataset. Only different is methodolgies.\n",
    "\n",
    "class Classifier(nn.Module):\n",
    "    def __init__(self):\n",
    "        super().__init__()\n",
    "        self.fc1 = nn.Linear(784, 256)\n",
    "        self.fc2 = nn.Linear(256, 128)\n",
    "        self.fc3 = nn.Linear(128, 64)\n",
    "        self.fc4 = nn.Linear(64, 10)\n",
    "        \n",
    "        # Dropout module with 0.2 drop probability\n",
    "        self.dropout = nn.Dropout(p=0.2)\n",
    "        \n",
    "    def forward(self, x):\n",
    "        # make sure input tensor is flattened (i.e., You don't need flatten in the tranning)\n",
    "        x = x.view(x.shape[0], -1)\n",
    "        \n",
    "        x = self.dropout(F.relu(self.fc1(x)))\n",
    "        x = self.dropout(F.relu(self.fc2(x)))\n",
    "        x = self.dropout(F.relu(self.fc3(x)))\n",
    "        \n",
    "        # Here we don't need to dropout because its output layer\n",
    "        x = F.log_softmax(self.fc4(x), dim=1)\n",
    "        \n",
    "        return x"
   ]
  },
  {
   "cell_type": "code",
   "execution_count": 119,
   "metadata": {},
   "outputs": [
    {
     "name": "stdout",
     "output_type": "stream",
     "text": [
      "Epoch: 1/30..  Training Loss: 0.602..  Test Loss: 0.486..  Test Accuracy: 55.548\n",
      "Epoch: 2/30..  Training Loss: 0.484..  Test Loss: 0.433..  Test Accuracy: 55.548\n",
      "Epoch: 3/30..  Training Loss: 0.445..  Test Loss: 0.433..  Test Accuracy: 55.548\n",
      "Epoch: 4/30..  Training Loss: 0.436..  Test Loss: 0.452..  Test Accuracy: 55.548\n",
      "Epoch: 5/30..  Training Loss: 0.425..  Test Loss: 0.413..  Test Accuracy: 55.548\n",
      "Epoch: 6/30..  Training Loss: 0.412..  Test Loss: 0.398..  Test Accuracy: 55.548\n",
      "Epoch: 7/30..  Training Loss: 0.401..  Test Loss: 0.388..  Test Accuracy: 55.548\n",
      "Epoch: 8/30..  Training Loss: 0.399..  Test Loss: 0.390..  Test Accuracy: 55.548\n",
      "Epoch: 9/30..  Training Loss: 0.403..  Test Loss: 0.394..  Test Accuracy: 55.548\n",
      "Epoch: 10/30..  Training Loss: 0.388..  Test Loss: 0.397..  Test Accuracy: 55.548\n",
      "Epoch: 11/30..  Training Loss: 0.385..  Test Loss: 0.403..  Test Accuracy: 55.548\n",
      "Epoch: 12/30..  Training Loss: 0.387..  Test Loss: 0.369..  Test Accuracy: 55.548\n",
      "Epoch: 13/30..  Training Loss: 0.376..  Test Loss: 0.386..  Test Accuracy: 55.548\n",
      "Epoch: 14/30..  Training Loss: 0.377..  Test Loss: 0.382..  Test Accuracy: 55.548\n",
      "Epoch: 15/30..  Training Loss: 0.375..  Test Loss: 0.380..  Test Accuracy: 55.548\n",
      "Epoch: 16/30..  Training Loss: 0.370..  Test Loss: 0.393..  Test Accuracy: 55.548\n",
      "Epoch: 17/30..  Training Loss: 0.366..  Test Loss: 0.377..  Test Accuracy: 55.548\n",
      "Epoch: 18/30..  Training Loss: 0.364..  Test Loss: 0.377..  Test Accuracy: 55.548\n",
      "Epoch: 19/30..  Training Loss: 0.365..  Test Loss: 0.410..  Test Accuracy: 55.548\n",
      "Epoch: 20/30..  Training Loss: 0.362..  Test Loss: 0.401..  Test Accuracy: 55.548\n",
      "Epoch: 21/30..  Training Loss: 0.367..  Test Loss: 0.423..  Test Accuracy: 55.548\n",
      "Epoch: 22/30..  Training Loss: 0.355..  Test Loss: 0.404..  Test Accuracy: 55.548\n",
      "Epoch: 23/30..  Training Loss: 0.357..  Test Loss: 0.372..  Test Accuracy: 55.548\n",
      "Epoch: 24/30..  Training Loss: 0.356..  Test Loss: 0.381..  Test Accuracy: 55.548\n",
      "Epoch: 25/30..  Training Loss: 0.346..  Test Loss: 0.372..  Test Accuracy: 55.548\n",
      "Epoch: 26/30..  Training Loss: 0.352..  Test Loss: 0.400..  Test Accuracy: 55.548\n",
      "Epoch: 27/30..  Training Loss: 0.350..  Test Loss: 0.372..  Test Accuracy: 55.548\n",
      "Epoch: 28/30..  Training Loss: 0.350..  Test Loss: 0.387..  Test Accuracy: 55.548\n",
      "Epoch: 29/30..  Training Loss: 0.341..  Test Loss: 0.371..  Test Accuracy: 55.548\n",
      "Epoch: 30/30..  Training Loss: 0.347..  Test Loss: 0.386..  Test Accuracy: 55.548\n"
     ]
    }
   ],
   "source": [
    "## TODO: Train your model with dropout, and monitor the training progress with the validation loss and accuracy\n",
    "model = Classifier()\n",
    "criterion = nn.NLLLoss()\n",
    "optimizer = optim.Adam(model.parameters(), lr=0.003)\n",
    "\n",
    "epochs = 30\n",
    "steps = 0\n",
    "\n",
    "train_losses, test_losses = [], []\n",
    "for e in range(epochs):\n",
    "    tot_train_loss = 0\n",
    "    for images, labels in trainloader:\n",
    "\n",
    "        optimizer.zero_grad()\n",
    "        \n",
    "        log_ps = model(images)\n",
    "        loss = criterion(log_ps, labels)\n",
    "        loss.backward()\n",
    "        optimizer.step()\n",
    "        \n",
    "        tot_train_loss += loss.item()\n",
    "        \n",
    "    else:\n",
    "        ## TODO: Implement the validation pass and print out the validation accuracy\n",
    "        tot_test_loss = 0\n",
    "        accuracy = 0\n",
    "        with torch.no_grad():\n",
    "            \n",
    "            # set model to evaluation mode\n",
    "            model.eval()\n",
    "            \n",
    "            for images, labels in testloader:\n",
    "                log_ps = model(images)\n",
    "                loss = criterion(log_ps, labels)\n",
    "                tot_test_loss += loss.item()\n",
    "                \n",
    "                ps = torch.exp(log_ps)\n",
    "                top_p, top_class = ps.topk(1, dim=1)\n",
    "                equals = top_class == labels.view(top_class.shape)\n",
    "                \n",
    "                accuracy += torch.mean(equals.type(torch.FloatTensor))\n",
    "                \n",
    "        # set model back to train mode\n",
    "        model.train()\n",
    "        \n",
    "        train_loss = tot_train_loss/len(trainloader)\n",
    "        test_loss = tot_test_loss/len(testloader)\n",
    "        \n",
    "        # Get mean loss to enable comparison between train and test sets\n",
    "        train_losses.append(train_loss)\n",
    "        test_losses.append(test_loss)\n",
    "                \n",
    "        print(\"Epoch: {}/{}.. \".format(e+1, epochs),\n",
    "              \"Training Loss: {:.3f}.. \".format(train_loss),\n",
    "              \"Test Loss: {:.3f}.. \".format(test_loss),\n",
    "              \"Test Accuracy: {:.3f}\".format(test_correct / len(testloader)))"
   ]
  },
  {
   "cell_type": "code",
   "execution_count": 120,
   "metadata": {},
   "outputs": [
    {
     "data": {
      "image/png": "[encoded data removed]",
      "text/plain": [
       "<Figure size 432x288 with 1 Axes>"
      ]
     },
     "metadata": {
      "image/png": {
       "height": 248,
       "width": 380
      },
      "needs_background": "light"
     },
     "output_type": "display_data"
    }
   ],
   "source": [
    "plt.plot(train_losses, label = 'Train Losses')\n",
    "plt.plot(test_losses, label = 'Validation Losses')\n",
    "plt.legend(frameon=False);"
   ]
  },
  {
   "cell_type": "markdown",
   "metadata": {},
   "source": [
    "## Inference\n",
    "\n",
    "Now that the model is trained, we can use it for inference. We've done this before, but now we need to remember to set the model in inference mode with `model.eval()`. You'll also want to turn off autograd with the `torch.no_grad()` context."
   ]
  },
  {
   "cell_type": "code",
   "execution_count": 160,
   "metadata": {},
   "outputs": [
    {
     "data": {
      "image/png": "[encoded data removed]",
      "text/plain": [
       "<Figure size 432x648 with 2 Axes>"
      ]
     },
     "metadata": {
      "image/png": {
       "height": 216,
       "width": 424
      },
      "needs_background": "light"
     },
     "output_type": "display_data"
    }
   ],
   "source": [
    "# Import helper module (should be in the repo)\n",
    "import helper\n",
    "\n",
    "# Test out your network!\n",
    "\n",
    "model.eval()\n",
    "\n",
    "dataiter = iter(testloader)\n",
    "images, labels = dataiter.next()\n",
    "img = images[0]\n",
    "# Convert 2D image to 1D vector\n",
    "img = img.view(1, 784)\n",
    "\n",
    "# Calculate the class probabilities (softmax) for img\n",
    "with torch.no_grad():\n",
    "    output = model.forward(img)\n",
    "\n",
    "ps = torch.exp(output)\n",
    "\n",
    "# Plot the image and probabilities\n",
    "helper.view_classify(img.view(1, 28, 28), ps, version='Fashion')"
   ]
  },
  {
   "cell_type": "markdown",
   "metadata": {},
   "source": [
    "## Next Up!\n",
    "\n",
    "In the next part, I'll show you how to save your trained models. In general, you won't want to train a model everytime you need it. Instead, you'll train once, save it, then load the model when you want to train more or use if for inference."
   ]
  }
 ],
 "metadata": {
  "kernelspec": {
   "display_name": "Python 3 (ipykernel)",
   "language": "python",
   "name": "python3"
  },
  "language_info": {
   "codemirror_mode": {
    "name": "ipython",
    "version": 3
   },
   "file_extension": ".py",
   "mimetype": "text/x-python",
   "name": "python",
   "nbconvert_exporter": "python",
   "pygments_lexer": "ipython3",
   "version": "3.9.6"
  }
 },
 "nbformat": 4,
 "nbformat_minor": 2
}
